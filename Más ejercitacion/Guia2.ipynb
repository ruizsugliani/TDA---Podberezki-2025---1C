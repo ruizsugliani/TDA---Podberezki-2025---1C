{
 "cells": [
  {
   "attachments": {},
   "cell_type": "markdown",
   "metadata": {},
   "source": [
    "# Guía de ejercicios 2"
   ]
  },
  {
   "attachments": {},
   "cell_type": "markdown",
   "metadata": {},
   "source": [
    "## greedy"
   ]
  },
  {
   "attachments": {},
   "cell_type": "markdown",
   "metadata": {},
   "source": [
    "Por cada ejercicio considere, además de resolver lo solicitado, calcular la complejidad temporal espacial, justificar la optimalidad y su pertenencia a la metodología greedy. En muchas ocasiones existen varias soluciones alternativas óptimas greedy. Tómese un tiempo para buscarlas"
   ]
  },
  {
   "attachments": {},
   "cell_type": "markdown",
   "metadata": {},
   "source": [
    "#### Imports"
   ]
  },
  {
   "cell_type": "code",
   "execution_count": 3,
   "metadata": {},
   "outputs": [],
   "source": [
    "import math"
   ]
  },
  {
   "attachments": {},
   "cell_type": "markdown",
   "metadata": {},
   "source": [
    "### Ejercicio 1"
   ]
  },
  {
   "attachments": {},
   "cell_type": "markdown",
   "metadata": {},
   "source": [
    "Una ruta tiene un conjunto de bifurcaciones para acceder a diferentes pueblos. El listado (ordenado por nombre del pueblo) contiene el número de kilómetros donde está ubicada cada una. Se desea ubicar la menor cantidad de patrullas policiales (en las bifurcaciones) de tal forma que no haya bifurcaciones con vigilancia a más de 50km. Proponer un algoritmo que lo resuelva."
   ]
  },
  {
   "attachments": {},
   "cell_type": "markdown",
   "metadata": {},
   "source": [
    "#### Resolución"
   ]
  },
  {
   "attachments": {},
   "cell_type": "markdown",
   "metadata": {},
   "source": [
    "Este ejercicio se puede resolver por Interval Scheduling, de la siguiente manera:  \n",
    "  \n",
    "  \n",
    "  1. Ordeno las bifurcaciones en orden ascendente según su ubicación en kilómetros.  \n",
    "  2. Inicia la primera patrulla en la primera bifurcación.  \n",
    "  3. Recorre las bifurcaciones en orden. Si la distancia entre la bifurcación actual y la última patrulla es mayor a 50km, ubica una nueva patrulla en esa bifurcación.  \n",
    "  4. Repite el paso 3 hasta que todas las bifurcaciones estén a menos de 50km de una patrulla.  "
   ]
  },
  {
   "attachments": {},
   "cell_type": "markdown",
   "metadata": {},
   "source": [
    "#### Algoritmo"
   ]
  },
  {
   "cell_type": "code",
   "execution_count": 4,
   "metadata": {},
   "outputs": [
    {
     "name": "stdout",
     "output_type": "stream",
     "text": [
      "La cantidad de patrullas necesarias es:  4\n",
      "Las patrullas se deben ubicar en las distancias:  [3, 65, 130, 210]\n"
     ]
    }
   ],
   "source": [
    "# bifurcaciones es un vector que contiene la distancias desde un punto inicial a la que se encuentran los pueblos.\n",
    "def interval_scheduling(bifurcaciones, dist_maxima = 50):\n",
    "\n",
    "    # ordeno en orden ascendente las distancias de los pueblos\n",
    "    bifurcaciones.sort()\n",
    "\n",
    "    # patrullas es un vector que indica la distancia la que se deben ubicar las patrullas,\n",
    "    # la primera patrulla SIEMPRE va en la primera bifurcación\n",
    "    patrullas = [bifurcaciones[0]]\n",
    "\n",
    "    # salteo la primer bifurcacion ya que no es necesario analizarla, puesto que siempre va una patrulla\n",
    "    for bifurcacion in bifurcaciones[1:]:\n",
    "\n",
    "        # si la distancia entre la ultima patrulla ubicada y la bifurcacion es mayor a la distancia maxima, \n",
    "        # se debe ubicar una nueva patrulla\n",
    "        if (bifurcacion - patrullas[-1]) > dist_maxima:\n",
    "            patrullas.append(bifurcacion)\n",
    "\n",
    "    \n",
    "    return patrullas\n",
    "\n",
    "# Ejemplo\n",
    "\n",
    "bifurcaciones = [3, 35, 70, 85, 130, 5, 65, 140, 34, 74, 240, 210, 89, 17, 110, 170]\n",
    "\n",
    "patrullas = interval_scheduling(bifurcaciones)\n",
    "\n",
    "print(\"La cantidad de patrullas necesarias es: \", len(patrullas))\n",
    "print(\"Las patrullas se deben ubicar en las distancias: \", patrullas)\n"
   ]
  },
  {
   "attachments": {},
   "cell_type": "markdown",
   "metadata": {},
   "source": [
    "### Ejercicio 2"
   ]
  },
  {
   "attachments": {},
   "cell_type": "markdown",
   "metadata": {},
   "source": [
    "Conocemos el algoritmo de Kruskal y Prim sobre un grafo conexo y ponderado para obtener su árbol recubridor mínimo. Analice la siguiente estrategia de resolución y determine si corresponde a un algoritmo óptimo. Si lo es, detalle con qué estructuras lo implementaría de la forma más eficiente posible."
   ]
  },
  {
   "attachments": {},
   "cell_type": "markdown",
   "metadata": {},
   "source": [
    "_Iniciar con el grafo completo_  \n",
    "_Mientras existan ciclos en el grafo_  \n",
    "    _Obtener la arista de mayor peso cuya remoción mantenga la conectividad del grafo_  \n",
    "    _Eliminar la arista seleccionada_  "
   ]
  },
  {
   "attachments": {},
   "cell_type": "markdown",
   "metadata": {},
   "source": [
    "### Resolución"
   ]
  },
  {
   "attachments": {},
   "cell_type": "markdown",
   "metadata": {},
   "source": [
    "La estrategia que se describe es conocida como el algoritmo de Kruskal inverso o algoritmo de Borůvka inverso. En lugar de comenzar con un bosque de vértices aislados y agregar la arista más pequeña que conecta dos árboles separados (como en el algoritmo de Kruskal), este algoritmo comienza con el grafo completo y elimina la arista más grande que no desconecta el grafo.  \n",
    "  \n",
    "Este algoritmo es óptimo y produce un árbol de expansión mínima. Una propuesta de cómo implementarlo de manera eficiente:  \n",
    "  \n",
    "1. Estructuras de datos: Se necesita una estructura de datos para representar el grafo, como una lista de adyacencia o una matriz de adyacencia. También se necesita una estructura de datos para almacenar el árbol de expansión mínima, que podría ser otra lista o matriz de adyacencia.  \n",
    "  \n",
    "2. Ordenar las aristas: Se deben ordenar las aristas del grafo por peso en orden descendente. Esto se puede hacer utilizando cualquier algoritmo de ordenación eficiente, como quicksort o mergesort.  \n",
    "  \n",
    "3. Eliminar aristas: Se deben recorrer las aristas en el orden obtenido. Para cada arista, comprueba si su eliminación desconectaría el grafo. Esto se puede hacer utilizando un algoritmo de búsqueda en profundidad o en amplitud para comprobar si todos los vértices siguen siendo alcanzables después de eliminar la arista. Si la eliminación de la arista no desconecta el grafo, elimínala.  \n",
    "  \n",
    "4. Repetir: Se debe repetir el paso 3 hasta que no queden ciclos en el grafo.  \n",
    "  \n",
    "Es importante tener en cuenta que este algoritmo tiene una complejidad temporal considerable, ya que necesita realizar una búsqueda en profundidad o en amplitud para cada arista del grafo. Sin embargo, es posible optimizarlo utilizando estructuras de datos más avanzadas, como conjuntos disjuntos, para mantener un seguimiento eficiente de las componentes conectadas del grafo.  "
   ]
  },
  {
   "attachments": {},
   "cell_type": "markdown",
   "metadata": {},
   "source": [
    "### Ejercicio 12"
   ]
  },
  {
   "attachments": {},
   "cell_type": "markdown",
   "metadata": {},
   "source": [
    "El ajedrez se juega con un tablero cuadriculado. La pieza llamado \"Rey\" puede moverse en cualquiera de los 8 cuadrados aledaños a su posición actual comiendo cualquier otra pieza que esté en ellos. Contamos con un tablero especial de nxm cuadrados y una cantidad ilimitada de piezas \"Rey\". Queremos ubicar la mayor cantidad de reyes sin que estos se puedan comer entre sí. Proponer un algoritmo greedy para resolverlo. Brindar complejidad. Justificar la optimalidad de su propuesta."
   ]
  },
  {
   "cell_type": "code",
   "execution_count": 10,
   "metadata": {},
   "outputs": [
    {
     "name": "stdout",
     "output_type": "stream",
     "text": [
      "La cantidad de reyes que se pueden colocar en el tablero es de:  16\n",
      "Se pueden ubicar en los siguientes casilleros:  [(1, 1), (1, 3), (1, 5), (1, 7), (3, 1), (3, 3), (3, 5), (3, 7), (5, 1), (5, 3), (5, 5), (5, 7), (7, 1), (7, 3), (7, 5), (7, 7)]\n"
     ]
    }
   ],
   "source": [
    "def solve_kings(n, m):\n",
    "\n",
    "    # la cantidad de reyes se puede calcular sin necesidad de realizar un for\n",
    "    cant_kings = math.ceil(n / 2) * math.ceil(m / 2)\n",
    "\n",
    "    # dado que se pide resolverlo mediante greedy se propone la siguiente solucion\n",
    "    # tampoco estoy del todo seguro si es correcto esto, es demasiado simple\n",
    "    # la idea es ubicar los reyes cada dos posiciones y si se va del tablero bajar 2 posiciones\n",
    "    # pero lo simplifico sin necesidad de preguntar si se va del tablero,\n",
    "    # ya que al tener el ancho y el alto no es necesario\n",
    "    kings = []\n",
    "    \n",
    "    for i in range(1, n, 2):\n",
    "        for j in range(1, m, 2):\n",
    "            kings.append((i, j))\n",
    "\n",
    "    if cant_kings == len(kings):\n",
    "        return kings\n",
    "    else:\n",
    "        return \"Error\"\n",
    "\n",
    "# Ejemplo\n",
    "kings = solve_kings(8,8)\n",
    "print(\"La cantidad de reyes que se pueden colocar en el tablero es de: \", len(kings))\n",
    "print(\"Se pueden ubicar en los siguientes casilleros: \", kings)"
   ]
  },
  {
   "attachments": {},
   "cell_type": "markdown",
   "metadata": {},
   "source": [
    "La complejidad es de O(n*m) ya que recorre todo el tablero una sola vez.  \n",
    "El algoritmo es óptimo porque coloca un rey en cada segunda casilla, lo cual es la máxima densidad posible sin que los reyes se puedan comer entre sí. No es posible colocar más reyes sin violar la restricción de que no se pueden comer entre sí, por lo que este algoritmo alcanza la solución óptima."
   ]
  },
  {
   "attachments": {},
   "cell_type": "markdown",
   "metadata": {},
   "source": [
    "### Ejercicio 21"
   ]
  },
  {
   "attachments": {},
   "cell_type": "markdown",
   "metadata": {},
   "source": [
    "Sean A y B dos sets de \"n\" puntos en el plano p=(x, y). Un punto ai=(xi, yi) de A domina a un punto bj = (xj, yj) de B si y solo si xi >= xj y yi >= yj. Un emparejamiento (match) entre un punto ai de A y uno bj B es posible si ai domina a bj. Llamamos matching M a un conjunto de emparejamientos {(a1, b1), (a2, b2), ..., (ak, bk)} y su tamaño corresponde a k. Un matching es máximo si no existe otro posible matching con mayor cantidad de puntos. Proponga una estrategia greedy óptima que obtenga el matching máximo para cualquier sets de conjuntos A y B. Procurar realizarlo con la menor complejidad espacial y temporal posible."
   ]
  },
  {
   "cell_type": "code",
   "execution_count": 11,
   "metadata": {},
   "outputs": [
    {
     "name": "stdout",
     "output_type": "stream",
     "text": [
      "[((5, 5), (2, 2)), ((4, 4), (1, 1)), ((3, 3), (0, 0))]\n"
     ]
    }
   ],
   "source": [
    "def max_matching(A, B):\n",
    "    # Ordenar los puntos en A y B en orden descendente\n",
    "    A.sort(reverse=True)\n",
    "    B.sort(reverse=True)\n",
    "\n",
    "    # Iniciar un matching vacío\n",
    "    M = []\n",
    "\n",
    "    # Índice para recorrer los puntos en B\n",
    "    j = 0\n",
    "\n",
    "    # Recorrer los puntos en A\n",
    "    for ai in A:\n",
    "        # Encontrar el primer punto en B que es dominado por ai\n",
    "        while j < len(B) and (B[j][0] > ai[0] or B[j][1] > ai[1]):\n",
    "            j += 1\n",
    "\n",
    "        # Si tal punto existe, añadir el par (ai, bj) a M\n",
    "        if j < len(B):\n",
    "            M.append((ai, B[j]))\n",
    "            j += 1\n",
    "\n",
    "    return M\n",
    "\n",
    "# Ejemplo de uso:\n",
    "A = [(5, 5), (4, 4), (3, 3)]\n",
    "B = [(2, 2), (1, 1), (0, 0)]\n",
    "print(max_matching(A, B))"
   ]
  }
 ],
 "metadata": {
  "kernelspec": {
   "display_name": "Python 3",
   "language": "python",
   "name": "python3"
  },
  "language_info": {
   "codemirror_mode": {
    "name": "ipython",
    "version": 3
   },
   "file_extension": ".py",
   "mimetype": "text/x-python",
   "name": "python",
   "nbconvert_exporter": "python",
   "pygments_lexer": "ipython3",
   "version": "3.11.5"
  },
  "orig_nbformat": 4
 },
 "nbformat": 4,
 "nbformat_minor": 2
}
