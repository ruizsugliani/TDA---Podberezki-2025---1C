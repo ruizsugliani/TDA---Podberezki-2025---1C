{
 "cells": [
  {
   "cell_type": "markdown",
   "metadata": {},
   "source": [
    "# FUERZA BRUTA"
   ]
  },
  {
   "cell_type": "code",
   "execution_count": null,
   "metadata": {},
   "outputs": [],
   "source": [
    "# Backtracking\n",
    "\n",
    "def is_solution(state, path):\n",
    "    pass\n",
    "\n",
    "def solve_problem(state, path):\n",
    "    pass\n",
    "\n",
    "def is_valid(state):\n",
    "    pass\n",
    "\n",
    "def generate_next_states(state, path):\n",
    "    pass\n",
    "\n",
    "def backtracking(state, path = []):\n",
    "\n",
    "    path = path + state\n",
    "\n",
    "    if is_solution(state, path):\n",
    "        solve_problem(state, path)\n",
    "    else:\n",
    "        for nextState in generate_next_states(state, path):\n",
    "            if is_valid(nextState):\n",
    "                return backtracking(nextState, path)\n",
    "            \n",
    "# COMPLEJIDAD TEMPORAL: n 2^n\n",
    "# COMPLEJIDAD ESPACIAL: n"
   ]
  },
  {
   "cell_type": "code",
   "execution_count": null,
   "metadata": {},
   "outputs": [],
   "source": [
    "# BRANCH AND BOUND\n",
    "\n",
    "best_solution = None\n",
    "best_bound = float('inf')\n",
    "\n",
    "def exceeds_bound(state, path):\n",
    "    pass\n",
    "\n",
    "def calculate_bound(state, path):\n",
    "    pass\n",
    "\n",
    "def branch_and_bound(state, path = []):\n",
    "\n",
    "    path = path + [state]\n",
    "\n",
    "    if is_solution(state, path) and not exceeds_bound(state, path):\n",
    "        best_solution = path\n",
    "        best_bound = calculate_bound(state, path)\n",
    "    else:\n",
    "        for nextState in generate_next_states(state, path):\n",
    "            if is_valid(nextState, path) and not exceeds_bound(nextState, path):\n",
    "                branch_and_bound(nextState, path)\n",
    "\n",
    "# COMPLEJIDAD TEMPORAL: n 2^n\n",
    "# COMPLEJIDAD ESPACIAL: n "
   ]
  },
  {
   "cell_type": "code",
   "execution_count": null,
   "metadata": {},
   "outputs": [],
   "source": [
    "# Knapsack\n",
    "\n",
    "def knapsack(weights, limit, id = 0):\n",
    "\n",
    "    if (len(weights)-1) == id or limit < 0:\n",
    "        return 0\n",
    "    elif weights[id] > limit:\n",
    "        return knapsack(weights, limit, id+1)\n",
    "    else:\n",
    "        return max(weights[id]+knapsack(weights, limit-weights[id], id+1), knapsack(weights, limit, id+1))\n",
    "    \n",
    "# COMPLEJIDAD TEMPORAL: 2^n\n",
    "# COMPLEJIDAD ESPACIAL: n"
   ]
  },
  {
   "cell_type": "markdown",
   "metadata": {},
   "source": [
    "**K-Coloreo**\n",
    "\n",
    "    Sea A matriz de adyacencia\n",
    "    Sea C lista de colores asignados\n",
    "    Sea n cantidad de vértices\n",
    "    Sea nVertice = 1\n",
    "\n",
    "    Si kColoreo(nVertice) entonces:\n",
    "        imprimir C\n",
    "    si no:\n",
    "        imprimir \"no es posible realizar un k-coloreo sobre la matriz de adyacencia A\"\n",
    "\n",
    "    kColoreo(nVertice):\n",
    "\n",
    "        Para cada color disponible:\n",
    "\n",
    "            C[nVertice] = color\n",
    "            coloreoValido = true\n",
    "\n",
    "            Para cada verticeAdy en A[nroVertice]:\n",
    "\n",
    "                Si C[verticeAdy] == C[nroVertice]:\n",
    "                    coloreoInvalido = false\n",
    "\n",
    "            Si coloreoValido entonces:\n",
    "\n",
    "                Si nroVertice == n entonces:\n",
    "                    return True\n",
    "                Si no:\n",
    "                    kColoreo(nVertice)\n",
    "\n",
    "            Si coloreoInvalido entonces:\n",
    "\n",
    "                kColoreo(nVertice + 1)\n",
    "\n",
    "        return False\n",
    "\n",
    "**COMPLEJIDAD TEMPORAL: 2^n**  \n",
    "**COMPLEJIDAD ESPACIAL: n**"
   ]
  },
  {
   "cell_type": "markdown",
   "metadata": {},
   "source": [
    "# GREEDY"
   ]
  },
  {
   "cell_type": "markdown",
   "metadata": {},
   "source": [
    "Los algoritmos greedy poseen dos propiedades:\n",
    "\n",
    "1. Elección Greedy: basan su algoritmo en seleccionar la solución óptima local con la esperanza de que los guíe hasta la solución óptima global.\n",
    "2. Subestructura Óptima: La solución óptima global contiene en su interior a las soluciones óptimas locales."
   ]
  },
  {
   "cell_type": "markdown",
   "metadata": {},
   "source": [
    "**Interval Scheduling**\n",
    "\n",
    "Se toma como elección greedy el que finaliza antes.\n",
    "\n",
    "    interval_scheduling(events):\n",
    "\n",
    "        ordenar eventos ascendente por tiempo de finalización\n",
    "        eventos_seleccionados = eventos[0] (elijo el primero)\n",
    "\n",
    "        Para cada evento en events:\n",
    "\n",
    "            si evento.tiempo_de_inicio >= eventos_seleccionados[-1].tiempo_de_finalización:\n",
    "                eventos_seleccionados.agregar(evento)\n",
    "\n",
    "        return eventos_seleccionados\n",
    "\n",
    "**COMPLEJIDAD TEMPORAL**: O(n logn)  \n",
    "**COMPLEJIDAD ESPACIAL** O(n)\n"
   ]
  },
  {
   "cell_type": "markdown",
   "metadata": {},
   "source": [
    "**Minimizar latencia**\n",
    "\n",
    "Se toma como elección greedy el deadline más próximo.\n",
    "\n",
    "    deadline(events):\n",
    "\n",
    "        eventos = ordenar eventos ascendente por deadline próximo\n",
    "        return eventos\n",
    "        \n",
    "**COMPLEJIDAD TEMPORAL**: O(n logn)  \n",
    "**COMPLEJIDAD ESPACIAL** O(n)\n"
   ]
  },
  {
   "cell_type": "markdown",
   "metadata": {},
   "source": [
    "**Dijkstra**\n",
    "\n",
    "1. Crear un conjunto de nodos no visitados con todos los nodos.\n",
    "2. Asignar a cada nodo una distancia tentativa: 0 para el nodo inicial e infinito para todos los demás y guardarlos en una lista\n",
    "3. Asignar el nodo inciial como nodo actual\n",
    "4. Para el nodo actual, considerar todos sus vecinos no visitados y calcular su distancia tentativa. Si es menor que la distancia actual, actualizar la distancia del nodo.\n",
    "5. Después de considerar todas las distancias de los vecinos del nodo actual, marcar el nodo actual como visitado y eliminarlo del conjunto de nodos no visitados.\n",
    "6. Si el nodo de destino fue marcado como visitado o si la distancia más pequeña entre los nodos no visitados es infinita, el algoritmo finalizó.\n",
    "7. De lo contrario, seleccionar el nodo no visitado con la menor distancia tentativa y establecerlo como el nuevo nodo actual y regresar al punto 4.\n",
    "\n",
    "\n",
    "**COMPLEJIDAD TEMPORAL**: O(n^2) utilizando una matriz de adyacencia  \n",
    "**COMPLEJIDAD ESPACIAL** O(n^2) utilizando una matriz de adyacencia\n",
    "\n"
   ]
  },
  {
   "cell_type": "markdown",
   "metadata": {},
   "source": [
    "# DIVISIÓN Y CONQUISTA"
   ]
  },
  {
   "cell_type": "markdown",
   "metadata": {},
   "source": [
    "La idea detrás de estos algoritmos es dividir el problema en subproblemas y resolverlos. Hay muchas formas de implementar dicho concepto."
   ]
  },
  {
   "cell_type": "code",
   "execution_count": null,
   "metadata": {},
   "outputs": [],
   "source": [
    "# BUSQUEDA BINARIA\n",
    "\n",
    "def busqueda_binaria(elementos, valor):\n",
    "\n",
    "    inicio = 0\n",
    "    fin = len(elementos)-1\n",
    "\n",
    "    while inicio <= fin:\n",
    "\n",
    "        medio = inicio + (fin - inicio)\n",
    "\n",
    "        if elementos[medio] == valor:\n",
    "            return medio\n",
    "        elif elementos[medio] > valor:\n",
    "            inicio = medio - 1\n",
    "        else:\n",
    "            fin = medio - 1\n",
    "\n",
    "    return -1 # si no encuentra el valor\n",
    "\n",
    "# COMPLEJIDAD TEMPORAL: O(log n)\n",
    "# COMPLEJIDAD ESPACIAL: O(1)\n",
    "# Si se deben ordenar los elementos anteriormente es O(n log n)"
   ]
  },
  {
   "cell_type": "code",
   "execution_count": null,
   "metadata": {},
   "outputs": [],
   "source": [
    "# MERGE SORT\n",
    "\n",
    "def sort(left, right):\n",
    "\n",
    "    i, j = 0, 0\n",
    "    inv = 0\n",
    "    merge = 0\n",
    "         \n",
    "    while i < len(left) and j < len(right):\n",
    "\n",
    "        if left[i] < right[j]:\n",
    "            merge.append(left[i])\n",
    "            i += 1\n",
    "        else:\n",
    "            merge.append(right[j])\n",
    "            j += 1\n",
    "            inv += len(left) - i\n",
    "\n",
    "    merge.extend(left[i:])\n",
    "    merge.extend(right[j:])\n",
    "\n",
    "    return merge, inv\n",
    "\n",
    "def merge_sort(elementos):\n",
    "\n",
    "    if len(elementos) == 1:\n",
    "        return elementos[0], 0\n",
    "    else:\n",
    "        mitad = len(elementos) // 2\n",
    "        left, inv_lef = merge_sort(elementos[:mitad])\n",
    "        right, inv_right = merge_sort(elementos[mitad:])\n",
    "        sorted, inv_sorted = sort(left, right)\n",
    "\n",
    "        return sorted, inv_lef + inv_right + inv_right\n",
    "    \n",
    "# COMPLEJIDAD TEMPORAL: O(n log n)\n",
    "# COMPLEJIDAD ESPACIAL: O(n)"
   ]
  }
 ],
 "metadata": {
  "kernelspec": {
   "display_name": "Python 3",
   "language": "python",
   "name": "python3"
  },
  "language_info": {
   "codemirror_mode": {
    "name": "ipython",
    "version": 3
   },
   "file_extension": ".py",
   "mimetype": "text/x-python",
   "name": "python",
   "nbconvert_exporter": "python",
   "pygments_lexer": "ipython3",
   "version": "3.11.5"
  }
 },
 "nbformat": 4,
 "nbformat_minor": 2
}
