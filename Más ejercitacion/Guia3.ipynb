{
 "cells": [
  {
   "attachments": {},
   "cell_type": "markdown",
   "metadata": {},
   "source": [
    "# Guía de ejercicios 1"
   ]
  },
  {
   "attachments": {},
   "cell_type": "markdown",
   "metadata": {},
   "source": [
    "## División y Conquista"
   ]
  },
  {
   "attachments": {},
   "cell_type": "markdown",
   "metadata": {},
   "source": [
    "### Imports"
   ]
  },
  {
   "cell_type": "code",
   "execution_count": 1,
   "metadata": {},
   "outputs": [],
   "source": [
    "# import sys\n",
    "import math\n",
    "import numpy as np\n",
    "import itertools\n",
    "from collections import defaultdict\n",
    "import pulp"
   ]
  },
  {
   "attachments": {},
   "cell_type": "markdown",
   "metadata": {},
   "source": [
    "### Ejercicio 1"
   ]
  },
  {
   "attachments": {},
   "cell_type": "markdown",
   "metadata": {},
   "source": [
    "Contamos con una lista ordenada de “n” coordenadas satelitales (latitud-longitud) que conforman un área con forma poligonal convexa. Queremos mostrar ese sector del mapa con el mayor tamaño posible en nuestra pantalla rectangular de la computadora. El programa que muestra el mapa acepta como\n",
    "parámetros 2 coordenadas para construir el rectángulo a mostrar: los correspondientes a los límites inferior izquierdo y superior derecho. Construya un algoritmo eﬁciente que resuelva el problema con complejidad O(logn). ¿Existe una solución de  fuerza  bruta que para “n” pequeños sea más eﬁciente? ¿para qué tamaño de n esto cambia?"
   ]
  },
  {
   "cell_type": "code",
   "execution_count": 3,
   "metadata": {},
   "outputs": [
    {
     "name": "stdout",
     "output_type": "stream",
     "text": [
      "Las coordenadas que forman el rectángulo de mayor área son:  ((1, 1), (5, 5))\n"
     ]
    }
   ],
   "source": [
    "def max_rectangle(coordinates):\n",
    "    # Ordenar las coordenadas\n",
    "    coordinates.sort(key=lambda x: (x[0], x[1]))\n",
    "\n",
    "    i, j = 0, len(coordinates) - 1\n",
    "    max_area = 0\n",
    "    max_coords = None\n",
    "\n",
    "    while i < j:\n",
    "        # Calcular el área del rectángulo\n",
    "        width = abs(coordinates[j][0] - coordinates[i][0])\n",
    "        height = abs(coordinates[j][1] - coordinates[i][1])\n",
    "        area = width * height\n",
    "\n",
    "        # Actualizar el área máxima y las coordenadas si es necesario\n",
    "        if area > max_area:\n",
    "            max_area = area\n",
    "            max_coords = (coordinates[i], coordinates[j])\n",
    "\n",
    "        # Mover los punteros\n",
    "        if coordinates[i][1] < coordinates[j][1]:\n",
    "            i += 1\n",
    "        else:\n",
    "            j -= 1\n",
    "\n",
    "    return max_coords\n",
    "\n",
    "# Coordenadas de prueba\n",
    "coordinates = [(1, 1), (1, 5), (5, 1), (5, 5)]\n",
    "\n",
    "# Llamar a la función\n",
    "max_coords = max_rectangle(coordinates)\n",
    "\n",
    "# Imprimir el resultado\n",
    "print(\"Las coordenadas que forman el rectángulo de mayor área son: \", max_coords)"
   ]
  }
 ],
 "metadata": {
  "kernelspec": {
   "display_name": "Python 3",
   "language": "python",
   "name": "python3"
  },
  "language_info": {
   "codemirror_mode": {
    "name": "ipython",
    "version": 3
   },
   "file_extension": ".py",
   "mimetype": "text/x-python",
   "name": "python",
   "nbconvert_exporter": "python",
   "pygments_lexer": "ipython3",
   "version": "3.11.5"
  },
  "orig_nbformat": 4
 },
 "nbformat": 4,
 "nbformat_minor": 2
}
