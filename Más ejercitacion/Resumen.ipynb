{
 "cells": [
  {
   "attachments": {},
   "cell_type": "markdown",
   "metadata": {},
   "source": [
    "<p align=\"center\">\n",
    "  <img src=\"https://i.ytimg.com/vi/Wm8ftqDZUVk/maxresdefault.jpg\" alt=\"FIUBA\" width=\"33%\"/>\n",
    "  </p>\n",
    "\n",
    "# **Teoría de Algoritmos I**\n",
    "# **Resumen**\n",
    "\n",
    "## **Alumno**: M. Iñaki Otegui\n",
    "## **Cuatrimestre**: 2do 2023"
   ]
  },
  {
   "attachments": {},
   "cell_type": "markdown",
   "metadata": {},
   "source": [
    "## Imports"
   ]
  },
  {
   "cell_type": "code",
   "execution_count": 2,
   "metadata": {},
   "outputs": [],
   "source": [
    "# import sys\n",
    "# import os\n",
    "import math\n",
    "import numpy as np\n",
    "# import itertools\n",
    "# from collections import defaultdict\n",
    "# import pulp\n",
    "import heapq\n",
    "from collections import defaultdict"
   ]
  },
  {
   "attachments": {},
   "cell_type": "markdown",
   "metadata": {},
   "source": [
    "## Fuerza Bruta"
   ]
  },
  {
   "attachments": {},
   "cell_type": "markdown",
   "metadata": {},
   "source": [
    "### Generar y Probar"
   ]
  },
  {
   "cell_type": "code",
   "execution_count": 1,
   "metadata": {},
   "outputs": [],
   "source": [
    "def generate():\n",
    "    pass\n",
    "\n",
    "def test(combinations: list):\n",
    "    pass\n",
    "\n",
    "def generate_and_test():\n",
    "\n",
    "    combinations = generate()\n",
    "    solutions = test(combinations)\n",
    "    pass"
   ]
  },
  {
   "attachments": {},
   "cell_type": "markdown",
   "metadata": {},
   "source": [
    "### Backtrack"
   ]
  },
  {
   "cell_type": "code",
   "execution_count": 4,
   "metadata": {},
   "outputs": [],
   "source": [
    "def is_solution(state):\n",
    "\n",
    "    # verifico si el estado es una solución válida\n",
    "    return True\n",
    "\n",
    "def solve_problem(path):\n",
    "\n",
    "    # acá se puede hacer un print por ejemplo recorriendo todos los estados del camino\n",
    "    for state in path:\n",
    "        print(state)\n",
    "\n",
    "def generate_next_states(state):\n",
    "\n",
    "    # genero todos los estados posibles a partir del estado actual sean o no válidos\n",
    "    return []\n",
    "\n",
    "def is_valid(state, path):\n",
    "\n",
    "    # 1. verifico si el estado es válido y cumple con todas las condiciones\n",
    "    # 2. verifico si el estado ya fue visitado o es un estado anterior del camino, estoy es muy importante ya que si no\n",
    "    #    volverá a recorrer estados pasado que se hayan regenerado.\n",
    "\n",
    "    return False\n",
    "\n",
    "# Defino mi función backtrack tal que pasa un estado (state) y un camino (path) que almacena los estados recorridos hasta el momento\n",
    "def backtrack(state, path):\n",
    "    \n",
    "    # actualizo el camino con el estado actual\n",
    "    path = path + [state]\n",
    "\n",
    "    if is_solution(state):\n",
    "        # acá se puede hacer si no, return path o return state (si quiero solo el último estado)\n",
    "        # o bien se puede realizar un print o lo que se desee\n",
    "        # si quiero todas las soluciones posibles no debo hacer un return\n",
    "        solve_problem(path)\n",
    "    else:\n",
    "        for nextState in generate_next_states(state):\n",
    "            if is_valid(nextState, path):\n",
    "                # acá se puede poner un return para que termine cuando encuentre la primera solución\n",
    "                # y también si lo que se quiere es que devuelva la solución, en vez de usar un Global\n",
    "                # que no es una buena práctica\n",
    "                # return backtrack(nextState, path)\n",
    "                backtrack(nextState, path)"
   ]
  },
  {
   "attachments": {},
   "cell_type": "markdown",
   "metadata": {},
   "source": [
    "### Branch & Bound"
   ]
  },
  {
   "cell_type": "code",
   "execution_count": 2,
   "metadata": {},
   "outputs": [],
   "source": [
    "# estas variables debo crearlas fuera de las funciones para que todas puedan acceder a ellas, deben ser global\n",
    "best_solution = None\n",
    "best_bound = float('inf')\n",
    "\n",
    "def is_solution(state):\n",
    "    # Es la mejor solución si cumple con las condiciones para que lo sea\n",
    "    return True\n",
    "\n",
    "def generate_next_states(state):\n",
    "    return []\n",
    "\n",
    "def is_valid(state, path):\n",
    "    return True\n",
    "\n",
    "# Calcula el costo del estado teniendo en cuenta el camino hasta ahora\n",
    "# Esto dependerá de como se defina el problema\n",
    "# Si estoy viajando por caminos y cada camino tiene un costo, \n",
    "# sumaré el costo de todos los caminos y del actual\n",
    "def calculate_bound(state, path):\n",
    "    return 10\n",
    "\n",
    "# Verifico si el estado supera el límite de la mejor solución encontrada hasta el momento\n",
    "def exceeds_best_bound(state, path):\n",
    "    global best_bound\n",
    "    state_bound = calculate_bound(state, path)\n",
    "    return state_bound < best_bound\n",
    "\n",
    "def branch_and_bound(state, path):\n",
    "    global best_solution, best_bound\n",
    "    \n",
    "    path = path + [state]\n",
    "\n",
    "    if is_solution(state, path):\n",
    "        best_solution = state\n",
    "        best_bound = calculate_bound(state, path)\n",
    "\n",
    "    else:\n",
    "        for nextState in generate_next_states(state):\n",
    "            if is_valid(nextState, path) and not exceeds_best_bound(nextState, path):\n",
    "                branch_and_bound(nextState, path)"
   ]
  },
  {
   "attachments": {},
   "cell_type": "markdown",
   "metadata": {},
   "source": [
    "#### Problema de la mochila"
   ]
  },
  {
   "cell_type": "code",
   "execution_count": 1,
   "metadata": {},
   "outputs": [
    {
     "name": "stdout",
     "output_type": "stream",
     "text": [
      "220\n"
     ]
    }
   ],
   "source": [
    "def knapsack(values, weights, limit, id_element=0):\n",
    "\n",
    "    # si recorrió todos los elementos posibles o si el límite es menor a 0, no puede agregar más elementos a la mochila\n",
    "    if id_element == len(values) or limit < 0:\n",
    "        return 0\n",
    "    # si el peso del elemento es mayor al límite, no puede agregarlo, por lo que continua con el siguiente elemento\n",
    "    elif weights[id_element] > limit:\n",
    "        return knapsack(values, weights, limit, id_element+1)\n",
    "    else:\n",
    "    # regresa el valor actual sumado al siguiente elemento o el valor del siguiente elemento dependiendo cual sea el máximo\n",
    "        return max(values[id_element] + knapsack(values, weights, limit -\n",
    "                                                 weights[id_element], id_element+1), knapsack(values, weights, limit, id_element+1))\n",
    "\n",
    "# ejemplo\n",
    "values = [60, 100, 120]\n",
    "weights = [10, 20, 30]\n",
    "limit = 50\n",
    "print(knapsack(values, weights, limit, 0))  # 220"
   ]
  },
  {
   "attachments": {},
   "cell_type": "markdown",
   "metadata": {},
   "source": [
    "## Greedy"
   ]
  },
  {
   "attachments": {},
   "cell_type": "markdown",
   "metadata": {},
   "source": [
    "Los algoritmos Greedy dividen el problema en subproblemas con una jerarquía entre ellos. Cada subproblema se va resolviendo iterativamente mediante una elección heurística y habilita nuevos subproblemas. Para cada problema existen diferentes algoritmos greedy, algunos no resultan en la solución óptima.  \n",
    "Deben cumplir con:\n",
    "\n",
    "1. Elección Greedy: Seleccionar una solución óptima local esperando que la misma nos acerque a la solución óptima global. La solución de un subproblema analiza el conjunto de los elementos del problema en el estado en que llegaron al mismo. Elige heuristicamente la \"mejor solución\" local. Un subproblema está condicionado por las elecciones de los anteriores problemas. COndiciona a los subproblemas siguientes.\n",
    "\n",
    "2. Subestructura óptima: Un problema contiene una subestructura óptima. Si la solución óptima global del mismo contiene en su interior las soluciones óptimas de sus subproblemas. La elección greedy iterativamente resolverá los subproblemas óptimamente y nos llevará a la solución óptima global."
   ]
  },
  {
   "attachments": {},
   "cell_type": "markdown",
   "metadata": {},
   "source": [
    "Algunos conceptos importantes en algoritmos greedy son:\n",
    "\n",
    "* Eficiencia: un algoritmo es eficiente si su consumo de recursos está en la media o por debajo de los niveles aceptables.\n",
    "* Óptimo: un algoritmo es óptimo cuando tiene la mejor eficiencia entre todas sus posibles soluciones. "
   ]
  },
  {
   "attachments": {},
   "cell_type": "markdown",
   "metadata": {},
   "source": [
    "### Dijkstra"
   ]
  },
  {
   "attachments": {},
   "cell_type": "markdown",
   "metadata": {},
   "source": [
    "Un algoritmo clásico de Greedy es el propuesto por Edsger Dijkstra en 1959. Funciona para un grafo G dirigido y ponderado (con costos positivos) de N nodos no aislados y M ejes. Dados dos nodos \"s\" y \"t\" final, encuentra el camino mínimo que los une. El algoritmo es óptimo y eficiente.  \n",
    "En cada iteración, selecciona el menor costo disponible. La complejidad es O([n+m]log(n))."
   ]
  },
  {
   "cell_type": "code",
   "execution_count": 6,
   "metadata": {},
   "outputs": [
    {
     "name": "stdout",
     "output_type": "stream",
     "text": [
      "9\n"
     ]
    }
   ],
   "source": [
    "def dijkstra(graph, start, end):\n",
    "    # Inicializamos las distancias a infinito\n",
    "    distances = {node: float('infinity') for node in graph}\n",
    "    # La distancia al nodo de inicio es 0\n",
    "    distances[start] = 0\n",
    "\n",
    "    # Creamos una cola de prioridad para los nodos a visitar\n",
    "    queue = [(0, start)]\n",
    "\n",
    "    while queue:\n",
    "        # Obtenemos el nodo con la menor distancia\n",
    "        current_distance, current_node = heapq.heappop(queue)\n",
    "\n",
    "        # Si hemos llegado al nodo final, terminamos\n",
    "        if current_node == end:\n",
    "            return distances[end]\n",
    "\n",
    "        # Si la distancia actual es mayor que la almacenada, continuamos con el siguiente nodo\n",
    "        if current_distance > distances[current_node]:\n",
    "            continue\n",
    "\n",
    "        # Visitamos los vecinos del nodo actual\n",
    "        for neighbor, weight in graph[current_node].items():\n",
    "            distance = current_distance + weight\n",
    "\n",
    "            # Si la nueva distancia es menor, actualizamos la distancia y añadimos el vecino a la cola\n",
    "            if distance < distances[neighbor]:\n",
    "                distances[neighbor] = distance\n",
    "                heapq.heappush(queue, (distance, neighbor))\n",
    "\n",
    "    return distances[end]\n",
    "\n",
    "graph = {\n",
    "    'A': {'B': 7, 'C': 3},\n",
    "    'B': {'A': 7, 'D': 2, 'E': 6},\n",
    "    'C': {'A': 3, 'D': 3},\n",
    "    'D': {'B': 2, 'C': 3, 'E': 1, 'F': 5},\n",
    "    'E': {'B': 6, 'D': 1, 'F': 2},\n",
    "    'F': {'D': 5, 'E': 2}\n",
    "}\n",
    "\n",
    "print(dijkstra(graph, 'A', 'F'))  # Output: A (3) -> C (3) -> D (1) -> E (2) -> F => Total: 9"
   ]
  },
  {
   "attachments": {},
   "cell_type": "markdown",
   "metadata": {},
   "source": [
    "### Kruskal"
   ]
  },
  {
   "attachments": {},
   "cell_type": "markdown",
   "metadata": {},
   "source": [
    "Es un método de la teoría de grafos que se utiliza para encontrar un árbol recubridor mínimo en un grafo conexo y ponderado. En otras palabras, busca un subconjunto de aristas que formen un árbol, incluyendo todos los vértices, y donde el valor total de todas las aristas del árbol sea el mínimo.\n",
    "\n",
    "Funciona de la siguiente manera:\n",
    "\n",
    "1. Ordena todas las aristas del grafo en orden de peso ascendente.\n",
    "2. Repite el siguiente proceso V-1 veces (donde V es el número total de vértices en el grafo):\n",
    "    a. Selecciona la siguiente arista con el peso mínimo del grafo.\n",
    "    b. Si no se forma un ciclo al agregar la arista al árbol de expansión mínimo (es decir, la arista conecta dos componentes conectados diferentes en el árbol), agrega la arista al árbol.\n",
    "\n",
    "Este proceso continúa hasta que se han agregado todas las aristas necesarias al árbol de expansión mínimo.\n",
    "\n",
    "Es importante mencionar que si el grafo no es conexo, entonces el algoritmo de Kruskal buscará un bosque expandido mínimo (un árbol expandido mínimo para cada componente conexa)."
   ]
  },
  {
   "attachments": {},
   "cell_type": "markdown",
   "metadata": {},
   "source": [
    "### Prim"
   ]
  },
  {
   "attachments": {},
   "cell_type": "markdown",
   "metadata": {},
   "source": [
    "El algoritmo de Prim es un método para encontrar un árbol recubridor mínimo en un grafo conexo, no dirigido y cuyas aristas están etiquetadas. En otras palabras, el algoritmo encuentra un subconjunto de aristas que forman un árbol con todos los vértices, donde el peso total de todas las aristas en el árbol es el mínimo posible.\n",
    "\n",
    "Funciona de la siguiente manera:\n",
    "\n",
    "1. Inicializa un árbol con un único vértice, elegido arbitrariamente, del grafo.\n",
    "2. Aumenta el árbol por un lado. De las posibles uniones que pueden conectar el árbol a los vértices que no están aún en el árbol, encuentra el lado de menor distancia y únelo al árbol.\n",
    "3. Repite el paso 2 hasta que todos los vértices pertenezcan al árbol.\n",
    "En cada paso, las aristas a considerar son aquellas que inciden en vértices que ya pertenecen al árbol. El árbol recubridor mínimo está completamente construido cuando no quedan más vértices por agregar."
   ]
  },
  {
   "attachments": {},
   "cell_type": "markdown",
   "metadata": {},
   "source": [
    "### Códigos de Huffman"
   ]
  },
  {
   "attachments": {},
   "cell_type": "markdown",
   "metadata": {},
   "source": [
    "Se utiliza para la reducción del volumen de datos para representar una determinada información empleando una menor cantidad de espacio. Se llama fuente a todo aquello que emita mensajes. El objetivo es encontrar un código binario para cada símbolo de la fuente, de manera que la secuencia de códigos resultante sea unívoca (no ambigua) y sea la más corta posible. Puede tener longitud fija o variable."
   ]
  },
  {
   "attachments": {},
   "cell_type": "markdown",
   "metadata": {},
   "source": [
    "PSEUDOCÓDIGO:\n",
    "\n",
    "Desde i=1 a n:\n",
    "    crear nodo z\n",
    "    z.char = a[i]\n",
    "    z.w = w[i]\n",
    "\n",
    "    Heap.add(z,z.w)\n",
    "\n",
    "Desde i=1 a n-1:\n",
    "    x = Heap.get()\n",
    "    y = Heap.get()\n",
    "\n",
    "    Crear nodo z\n",
    "    z.left = x\n",
    "    z.right = y\n",
    "    z.w = x.w + y.w\n",
    "\n",
    "    Heap.add(z, z.w)\n",
    "\n",
    "Retornar Heap.get()"
   ]
  },
  {
   "attachments": {},
   "cell_type": "markdown",
   "metadata": {},
   "source": [
    "### Interval Scheduling"
   ]
  },
  {
   "attachments": {},
   "cell_type": "markdown",
   "metadata": {},
   "source": [
    "Se busca dados N eventos con tiempo de inicio y final, encontrar un horario que incluya la mayor cantidad de eventos posibles entre sí. Se utiliza la heurística de \"aquel que termina primero\". Se ordenan los eventos por tiempo de finalización y se elige el primero. Luego se elige el primero que no se superponga con el anterior y así sucesivamente. La complejidad es O(nlog(n)) ya que este es el tiempo de ordenamiento. El tiempo de selección de trabajos es lineal y es O(n), pero es menor que el de ordenamiento. OJO que no es para obtener la máxima ganancia, si no seleccionar la mayor cantidad de trabajos posibles."
   ]
  },
  {
   "cell_type": "code",
   "execution_count": 12,
   "metadata": {},
   "outputs": [
    {
     "name": "stdout",
     "output_type": "stream",
     "text": [
      "El beneficio que se puede obtener es: 170 y los trabajos seleccionados fueron: [(1, 2, 50), (3, 5, 20), (6, 19, 100)]\n"
     ]
    }
   ],
   "source": [
    "def interval_scheduling_greedy(jobs):\n",
    "\n",
    "    if len(jobs) == 0:\n",
    "        return None\n",
    "\n",
    "    # Ordenar los trabajos por tiempo de finalización\n",
    "    jobs.sort(key=lambda x: x[1])\n",
    "\n",
    "    # Incluir siempre el primer trabajo\n",
    "    jobs_selected = [jobs[0]]\n",
    "    benefit = jobs[0][2]\n",
    "\n",
    "    for j in range(1, len(jobs)):\n",
    "        # Si el trabajo j no se superpone con el último trabajo seleccionado, incluirlo\n",
    "        if jobs[j][0] >= jobs_selected[-1][1]:\n",
    "            jobs_selected.append(jobs[j])\n",
    "            benefit += jobs[j][2]\n",
    "\n",
    "    return benefit, jobs_selected\n",
    "\n",
    "\n",
    "# ejemplos\n",
    "# (inicio, fin, beneficio), el máximo es 250\n",
    "jobs = [(1, 2, 50), (3, 5, 20), (6, 19, 100), (2, 100, 200)]\n",
    "max_gain, jobs_selected = interval_scheduling_greedy(jobs)\n",
    "print(f\"El beneficio que se puede obtener es: {max_gain} y los trabajos seleccionados fueron: {jobs_selected}\")"
   ]
  },
  {
   "attachments": {},
   "cell_type": "markdown",
   "metadata": {},
   "source": [
    "## División & Conquista"
   ]
  },
  {
   "attachments": {},
   "cell_type": "markdown",
   "metadata": {},
   "source": [
    "### Merge Sort (+contar inversiones)"
   ]
  },
  {
   "attachments": {},
   "cell_type": "markdown",
   "metadata": {},
   "source": [
    "Este algoritmo tiene una complejidad temporal de T(n) = O(n * log n)"
   ]
  },
  {
   "cell_type": "code",
   "execution_count": 7,
   "metadata": {},
   "outputs": [],
   "source": [
    "def merge_sort(elements, reference):\n",
    "\n",
    "    if len(elements) == 1:\n",
    "        return elements[0]\n",
    "    else:\n",
    "        mitad = len(elements) // 2\n",
    "        left, inv_left = merge_sort(elements[:mitad], reference)\n",
    "        right, inv_right = merge_sort(elements[mitad:], reference)\n",
    "        sorted, inv_sorted = sort(left, right, reference)\n",
    "\n",
    "        return sorted, inv_left + inv_right + inv_sorted\n",
    "\n",
    "def sort(left, right, reference):\n",
    "\n",
    "    i, j = 0, 0\n",
    "    inv = 0\n",
    "    result = []\n",
    "\n",
    "    while i < len(left) and j < len(right):\n",
    "        if compare(left[i], reference) < compare(right[j], reference):\n",
    "            result.append(left[i])\n",
    "            i += 1\n",
    "        else:\n",
    "            result.append(right[j])\n",
    "            j += 1\n",
    "            inv += len(left) - i \n",
    "\n",
    "    result.extend(left[i:])\n",
    "    result.extend(right[j:])\n",
    "\n",
    "    return result, inv\n",
    "\n",
    "def compare(element, reference):\n",
    "    pass"
   ]
  },
  {
   "attachments": {},
   "cell_type": "markdown",
   "metadata": {},
   "source": [
    "### Teorema Maestro\n",
    "\n",
    "Es una herramienta que proporciona una cota superior asintótica para ecuaciones de recurrencia que ocurren en muchos algoritmos recursivos, especialmente en los de tipo divide y vencerás.  \n",
    "\n",
    "Resulta útil para resolver relaciones recursivas de la forma:\n",
    "\n",
    "T(n) = aT(n/b) + f(n)\n",
    "\n",
    "donde:\n",
    "\n",
    "n: es el tamaño del problema a resolver  \n",
    "a: es el número de subproblemas en la recursión  \n",
    "n/b: es el tamaño de cada subproblema  \n",
    "f(n): es el costo del trabajo hecho fuera de las llamadas recursivas, que incluye el costo de la división del problema y el costo de unir las soluciones de los subproblemas.  \n",
    "\n",
    "Entonces, una vez que se tienen dichos parámetros, tales que a >= 1 y b >= 1 constantes; f(n) es una función y T(n) cumple que es una recurrencia con T(0) = cte, se pueden dar tres casos:\n",
    "\n",
    "1. Si f(n) = O(n^logb(a-ε)) para alguna constante ε > 0, entonces T(n) = Θ(n^logb(a))\n",
    "2. Si f(n) = Θ(n^logb(a)), entonces T(n) = Θ(n^logb(a) * logn)\n",
    "3. Si f(n) = Ω(n^logb(a+ε)) para alguna constante ε > 0, y si además af(n/b) <= cf(n) para alguna constante c < 1 y todas las suficientemente grandes n, entonces T(n) = Θ(f(n))\n",
    "\n",
    "Vale aclarar que no todas las ecuaciones de recurrencia pueden ser resueltas con el uso del teorema maestro.  "
   ]
  },
  {
   "attachments": {},
   "cell_type": "markdown",
   "metadata": {},
   "source": [
    "### Puntos más cercanos en el plano"
   ]
  },
  {
   "attachments": {},
   "cell_type": "markdown",
   "metadata": {},
   "source": [
    "Este algoritmo posee una complejidad temporal de O(n log n)"
   ]
  },
  {
   "cell_type": "code",
   "execution_count": 8,
   "metadata": {},
   "outputs": [
    {
     "name": "stdout",
     "output_type": "stream",
     "text": [
      "((2, 3), (3, 4), 1.4142135623730951)\n"
     ]
    }
   ],
   "source": [
    "def distancia(p1, p2):\n",
    "    return math.sqrt((p1[0] - p2[0])**2 + (p1[1] - p2[1])**2)\n",
    "\n",
    "def puntos_mas_cercanos(Px, Py):\n",
    "    if len(Px) <= 3:\n",
    "        min_dist = float('inf')\n",
    "        for i in range(len(Px)):\n",
    "            for j in range(i+1, len(Px)):\n",
    "                if distancia(Px[i], Px[j]) < min_dist:\n",
    "                    min_dist = distancia(Px[i], Px[j])\n",
    "                    p1, p2 = Px[i], Px[j]\n",
    "        return p1, p2, min_dist\n",
    "\n",
    "    mid = len(Px) // 2\n",
    "    Qx = Px[:mid]\n",
    "    Rx = Px[mid:]\n",
    "    Qy = list(filter(lambda x: x in Qx, Py))\n",
    "    Ry = list(filter(lambda x: x in Rx, Py))\n",
    "\n",
    "    (p1, q1, min1) = puntos_mas_cercanos(Qx, Qy)\n",
    "    (p2, q2, min2) = puntos_mas_cercanos(Rx, Ry)\n",
    "\n",
    "    if min1 <= min2:\n",
    "        d = min1\n",
    "        mn = (p1, q1)\n",
    "    else:\n",
    "        d = min2\n",
    "        mn = (p2, q2)\n",
    "\n",
    "    (p3, q3, min3) = puntos_mas_cercanos_franja(Py, mn, d)\n",
    "\n",
    "    if d <= min3:\n",
    "        return mn[0], mn[1], d\n",
    "    else:\n",
    "        return p3, q3, min3\n",
    "\n",
    "def puntos_mas_cercanos_franja(P, mn, d):\n",
    "    ln = len(P)\n",
    "    min_val = d\n",
    "    for i in range(ln):\n",
    "        j = i + 1\n",
    "        while j < ln and (P[j][1] - P[i][1]) < min_val:\n",
    "            min_val = distancia(P[i], P[j])\n",
    "            if min_val < d:\n",
    "                mn = (P[i], P[j])\n",
    "            j += 1\n",
    "    return mn[0], mn[1], min_val\n",
    "\n",
    "def solucion(P):\n",
    "    P.sort() # considera el primer elemento de cada tupla para ordenar de menor a mayor\n",
    "    Px = P\n",
    "    Py = sorted(P, key = lambda p: p[1]) # considera el segundo elemento de cada tupla para ordenar de menor a mayor\n",
    "    return puntos_mas_cercanos(Px, Py)\n",
    "\n",
    "P = [(2, 3), (12, 30), (40, 50), (5, 1), (12, 10), (3, 4)]\n",
    "print(solucion(P))"
   ]
  },
  {
   "attachments": {},
   "cell_type": "markdown",
   "metadata": {},
   "source": [
    "### Multiplicación de números enteros"
   ]
  },
  {
   "attachments": {},
   "cell_type": "markdown",
   "metadata": {},
   "source": [
    "No se desarrolló algoritmo"
   ]
  },
  {
   "attachments": {},
   "cell_type": "markdown",
   "metadata": {},
   "source": [
    "### Puntos extremos en polígonos convexos"
   ]
  },
  {
   "attachments": {},
   "cell_type": "markdown",
   "metadata": {},
   "source": [
    "No se desarrolló algoritmo"
   ]
  },
  {
   "attachments": {},
   "cell_type": "markdown",
   "metadata": {},
   "source": [
    "## Programación Dinámica"
   ]
  },
  {
   "attachments": {},
   "cell_type": "markdown",
   "metadata": {},
   "source": [
    "Es una técnica utilizada en algoritmos de optimización donde se descompone un problema en subproblemas más pequeños y se resuelven de manera eficiente. Los resultados de los subproblemas se almacenan y se reutilizan (memorizan) para evitar tener que resolver el mismo subproblema varias veces.\n",
    "\n",
    "Un problema debe contener las siguientes propiedades para poder resolverse de forma óptima mediante un algoritmo de programación dinámica:\n",
    "\n",
    "* Subestructura óptima: Se puede resolver al combinar las soluciones óptimas de los problemas secundarios que lo conforman. Contiene en su interior las soluciones óptimas de sus subproblemas.\n",
    "\n",
    "* Subproblemas superpuestos: El espacio de los subproblemas debe ser pequeño. El algoritmo deberá resolver los mismos subproblemas una y otra vez, en lugar de generar nuevos subproblemas. Es decir, en la resolución de sus subproblemas vuelven a aparecer subproblemas previamente calculados.\n",
    "\n",
    "Para desarrollarlo es necesario:\n",
    "\n",
    "1. Describir la estructura de la solución: visualizo como será la solución óptima\n",
    "2. Definir el valor de dicha solución: construcción del algoritmo recursivo\n",
    "3. Calculo del valor óptima: guardo valores previos (memoria)\n",
    "4. Calculo de la solución óptima: construyo la solución óptima con la información calculada\n",
    "\n",
    "El paso 4 dependerá de lo que se necesite."
   ]
  },
  {
   "attachments": {},
   "cell_type": "markdown",
   "metadata": {},
   "source": [
    "### Algoritmo de Kadane"
   ]
  },
  {
   "attachments": {},
   "cell_type": "markdown",
   "metadata": {},
   "source": [
    "El tiempo de ejecución es lineal y es de O(n)"
   ]
  },
  {
   "cell_type": "code",
   "execution_count": 9,
   "metadata": {},
   "outputs": [],
   "source": [
    "def max_subarray_sum(A):\n",
    "    max_ending_here = max_ending_so_far = A[0]\n",
    "    for i in range(1, len(A)):\n",
    "        max_ending_here = max(A[i], max_ending_here + A[i])\n",
    "        max_ending_so_far = max(max_ending_so_far, max_ending_here)\n",
    "    return max_ending_so_far"
   ]
  },
  {
   "attachments": {},
   "cell_type": "markdown",
   "metadata": {},
   "source": [
    "### Cortar la cuerda"
   ]
  },
  {
   "attachments": {},
   "cell_type": "markdown",
   "metadata": {},
   "source": [
    "El problema de cortar la cuerda es un ejemplo clásico de programación dinámica. En este problema, se te da una cuerda de longitud n, y tienes que cortarla en partes de longitudes enteras de manera que maximices el producto de las longitudes de todas las partes. Puedes realizar un número ilimitado de cortes y las longitudes de las partes no tienen que ser iguales."
   ]
  },
  {
   "cell_type": "code",
   "execution_count": 10,
   "metadata": {},
   "outputs": [
    {
     "name": "stdout",
     "output_type": "stream",
     "text": [
      "6\n",
      "36\n",
      "86093442\n"
     ]
    }
   ],
   "source": [
    "memo = {}\n",
    "memo[1] = 1\n",
    "\n",
    "def max_product_cutting(n):\n",
    "\n",
    "    if n in memo:\n",
    "        return memo[n]\n",
    "    \n",
    "    else: \n",
    "\n",
    "        max_product = 0\n",
    "        for i in range(1, n): # corto en i y verifico si el siguiente corte es el máximo\n",
    "            max_product = max(max_product, max(i * (n - i), i * max_product_cutting(n - i)))\n",
    "\n",
    "        memo[n] = max_product\n",
    "        return max_product\n",
    "\n",
    "\n",
    "# ejemplo\n",
    "print(max_product_cutting(5)) # 6 = 2 x 3 \n",
    "print(max_product_cutting(10)) # 36 = 3 x 3 x 4\n",
    "print(max_product_cutting(50)) # 86093442"
   ]
  },
  {
   "attachments": {},
   "cell_type": "markdown",
   "metadata": {},
   "source": [
    "#### Corte de Soga 2\n",
    "\n",
    "Se tiene una soga de longitud L divisible y una tabla de precios por longitud. Se quiere saber que cortes realizar para maximizar la ganancia."
   ]
  },
  {
   "cell_type": "code",
   "execution_count": 8,
   "metadata": {},
   "outputs": [
    {
     "name": "stdout",
     "output_type": "stream",
     "text": [
      "13\n"
     ]
    }
   ],
   "source": [
    "def max_profit(L, precios):\n",
    "    # Inicializamos una lista para almacenar los máximos beneficios\n",
    "    mp = [0]*(L+1)\n",
    "\n",
    "    # Llenamos la lista mp\n",
    "    for i in range(1, L+1):\n",
    "        max_val = -1\n",
    "        for j in range(0,i):\n",
    "            max_val = max(max_val, precios[j] + mp[i-j-1])\n",
    "        mp[i] = max_val\n",
    "\n",
    "    # Devolvemos el máximo beneficio que se puede obtener con una longitud L\n",
    "    return mp[L]\n",
    "\n",
    "\n",
    "# Ejemplo de uso:\n",
    "L = 5\n",
    "# precios[i] es el precio de una soga de longitud i+1\n",
    "precios = [1, 5, 8, 9, 10, 17, 17, 20, 24, 30]\n",
    "print(max_profit(L, precios))  # Devuelve 13"
   ]
  },
  {
   "attachments": {},
   "cell_type": "markdown",
   "metadata": {},
   "source": [
    "### Problema de la mochila\n",
    "\n",
    "Se quiere llenar una mochila con capacidad C con objetos de distintos pesos y valores. Se quiere maximizar el valor de los objetos que se colocan en la mochila."
   ]
  },
  {
   "cell_type": "code",
   "execution_count": 2,
   "metadata": {},
   "outputs": [
    {
     "name": "stdout",
     "output_type": "stream",
     "text": [
      "220\n"
     ]
    }
   ],
   "source": [
    "memo = {}\n",
    "\n",
    "def knapsack(values, weights, limit, element = 0):\n",
    "\n",
    "    if (element, limit) in memo:\n",
    "        return memo[(element, limit)]\n",
    "    \n",
    "    if element == len(values) or limit < 0:  # se probaron todos los elementos o superó el peso límite de la mochila\n",
    "        return 0\n",
    "    elif weights[element] > limit: # no entra en la mochila\n",
    "        return knapsack(values, weights, limit, element+1)\n",
    "    else: # se prueba con el elemento actual y con el siguiente elemento para ver cual conviene agregar\n",
    "        memo[(element, limit)] = max(values[element] + knapsack(values, weights, limit -\n",
    "                                                                weights[element], element+1), knapsack(values, weights, limit, element+1))\n",
    "        return memo[(element, limit)]\n",
    "    \n",
    "# ejemplo\n",
    "values = [60, 100, 120]\n",
    "weights = [10, 20, 30]\n",
    "limit = 50\n",
    "print(knapsack(values, weights, limit, 0)) # 220"
   ]
  },
  {
   "attachments": {},
   "cell_type": "markdown",
   "metadata": {},
   "source": [
    "### Fibonacci\n",
    "\n",
    "Es un ejemplo perfecto, se almacenan los valores en una table si se calculan por primera vez para ser reutilizados luego en caso de ser necesario y no volver a calcularlos."
   ]
  },
  {
   "attachments": {},
   "cell_type": "markdown",
   "metadata": {},
   "source": [
    "#### Memoization (Memoización)"
   ]
  },
  {
   "cell_type": "code",
   "execution_count": 2,
   "metadata": {},
   "outputs": [
    {
     "name": "stdout",
     "output_type": "stream",
     "text": [
      "5\n",
      "55\n",
      "6765\n"
     ]
    }
   ],
   "source": [
    "# Crear una tabla con valores iniciales\n",
    "memo = {}\n",
    "memo[0] = 0\n",
    "memo[1] = 1\n",
    "\n",
    "# Definir la función recursiva con memorización\n",
    "def fib_memo(n):\n",
    "  # Si el valor ya está en la tabla, devolverlo\n",
    "  if n in memo:\n",
    "    return memo[n]\n",
    "  # Si no, calcularlo recursivamente y guardarlo en la tabla\n",
    "  else:\n",
    "    memo[n] = fib_memo(n-1) + fib_memo(n-2)\n",
    "    return memo[n]\n",
    "\n",
    "\n",
    "# Probar la función con algunos valores\n",
    "print(fib_memo(5))  # 5\n",
    "print(fib_memo(10))  # 55\n",
    "print(fib_memo(20))  # 6765"
   ]
  },
  {
   "attachments": {},
   "cell_type": "markdown",
   "metadata": {},
   "source": [
    "#### Bottom-up Approach"
   ]
  },
  {
   "cell_type": "code",
   "execution_count": 4,
   "metadata": {},
   "outputs": [
    {
     "name": "stdout",
     "output_type": "stream",
     "text": [
      "5\n",
      "55\n",
      "6765\n"
     ]
    }
   ],
   "source": [
    "def fib_bottom(n):\n",
    "\n",
    "    memo = {}\n",
    "    memo[0] = 0\n",
    "    memo[1] = 1\n",
    "\n",
    "    for i in range(2, n+1): # voy calculando los valores de abajo hacia arriba\n",
    "        memo[i] = memo[i-1] + memo[i-2]\n",
    "\n",
    "    return memo[n]\n",
    "\n",
    "\n",
    "print(fib_bottom(5))  # 5\n",
    "print(fib_bottom(10))  # 55\n",
    "print(fib_bottom(20))  # 6765"
   ]
  },
  {
   "attachments": {},
   "cell_type": "markdown",
   "metadata": {},
   "source": [
    "#### Minimum Coin Change"
   ]
  },
  {
   "attachments": {},
   "cell_type": "markdown",
   "metadata": {},
   "source": [
    "Dado un set de monedas y un valor, encontrar el mínimo número de monedas para obtener el valor dado. Posee una complejidad temporal de O(M * V) donde M es la cantidad de monedas y V el valor a obtener. La complejidad espacial es de O(M) ya que se necesitan almacenar al menos M valores. Es un algoritmo pseudo polinómico."
   ]
  },
  {
   "cell_type": "code",
   "execution_count": 14,
   "metadata": {},
   "outputs": [
    {
     "name": "stdout",
     "output_type": "stream",
     "text": [
      "3\n",
      "30\n"
     ]
    }
   ],
   "source": [
    "memo = {}\n",
    "\n",
    "def minimum_coins(m, coins):\n",
    "    if m in memo:\n",
    "        return memo[m]\n",
    "    \n",
    "    if m == 0:\n",
    "        return 0\n",
    "    else:\n",
    "        min_coins = float('inf')\n",
    "        for coin in coins:\n",
    "            if m >= coin:\n",
    "                num_coins = minimum_coins(m - coin, coins)\n",
    "                if num_coins + 1 < min_coins:\n",
    "                    min_coins = num_coins + 1\n",
    "\n",
    "        memo[m] = min_coins\n",
    "        return min_coins\n",
    "    \n",
    "\n",
    "# ejemplos\n",
    "print(minimum_coins(13, [1, 4, 5])) # 3\n",
    "print(minimum_coins(150, [1, 4, 5])) # 30\n"
   ]
  },
  {
   "attachments": {},
   "cell_type": "markdown",
   "metadata": {},
   "source": [
    "#### Coin Problem: How many ways can we make the change?\n",
    "\n",
    "De uantas maneras se puede formar el cambio? El orden importa.."
   ]
  },
  {
   "cell_type": "code",
   "execution_count": 15,
   "metadata": {},
   "outputs": [
    {
     "name": "stdout",
     "output_type": "stream",
     "text": [
      "4\n",
      "11297\n",
      "271806901\n"
     ]
    }
   ],
   "source": [
    "def how_many_ways(m, coins):\n",
    "    \n",
    "    memo = defaultdict(lambda _: 0)\n",
    "\n",
    "    memo[0] = 1\n",
    "\n",
    "    for i in range(1, m+1):\n",
    "\n",
    "        memo[i] = 0\n",
    "\n",
    "        for coin in coins:\n",
    "\n",
    "            change = i - coin\n",
    "\n",
    "            if change >= 0:\n",
    "                memo[i] = memo[i] + memo[change]\n",
    "\n",
    "    return memo[m]\n",
    "\n",
    "print(how_many_ways(5, [1, 4, 5])) # 4\n",
    "print(how_many_ways(25, [1, 4, 5]))  # 11297\n",
    "print(how_many_ways(50, [1, 4, 5]))  # 271806901"
   ]
  },
  {
   "attachments": {},
   "cell_type": "markdown",
   "metadata": {},
   "source": [
    "### Weighted Interval Scheduling"
   ]
  },
  {
   "attachments": {},
   "cell_type": "markdown",
   "metadata": {},
   "source": [
    "Sea un conjunto P de n pedidos. Cada pedido i tiene un tiempo si donde inicia, un tiempo ti donde finaliza y un valor vi. Un par de tareas px, py pertenecientes a P son compatibles si y solo si no hay solapamiento en el tiempo entre ellas. Se quiere seleccionar el subconjunto P con tareas compatibles entre sí y que con la suma de sus valores se obtenga la ganancia máxima."
   ]
  },
  {
   "attachments": {},
   "cell_type": "markdown",
   "metadata": {},
   "source": [
    "##### Bottom-up Approach\n",
    "\n",
    "En este caso se utilizó este enfoque"
   ]
  },
  {
   "cell_type": "code",
   "execution_count": 4,
   "metadata": {},
   "outputs": [
    {
     "name": "stdout",
     "output_type": "stream",
     "text": [
      "El beneficio máximo que se puede obtener es: 250\n"
     ]
    }
   ],
   "source": [
    "def weighted_interval_scheduling(jobs):\n",
    "\n",
    "    # Ordenar los trabajos por tiempo de finalización\n",
    "    jobs.sort(key=lambda x: x[1])\n",
    "    # crea un array que contiene solamente los tiempos de finalización\n",
    "    finish_times = [job[1] for job in jobs]\n",
    "\n",
    "    # crea una tabla de memoización para almacenar los beneficios máximos\n",
    "    memo = [0 for _ in range(len(jobs)+1)]\n",
    "\n",
    "    # para cada trabajo\n",
    "    for i in range(0, len(jobs)):\n",
    "\n",
    "        # obtiene su ganacia\n",
    "        actual_gain = jobs[i][2]\n",
    "\n",
    "        # Busca el último trabajo que no se superpone con el trabajo actual\n",
    "        last_job_compatible = busqueda_binaria(finish_times, jobs[i][0])\n",
    "\n",
    "        # si existe, suma su beneficio\n",
    "        if (last_job_compatible != -1):\n",
    "            actual_gain += memo[last_job_compatible+1]\n",
    "\n",
    "        # Almacena el máximo de incluir y excluir el trabajo actual\n",
    "        memo[i+1] = max(actual_gain, memo[i])\n",
    "\n",
    "    return memo[-1]\n",
    "\n",
    "\n",
    "def busqueda_binaria(times, start_time):\n",
    "    lo, hi = 0, len(times)-1\n",
    "\n",
    "    while lo <= hi:\n",
    "        mid = (lo + hi) // 2\n",
    "        if times[mid] <= start_time:\n",
    "            if times[mid+1] > start_time:\n",
    "                return mid\n",
    "            else:\n",
    "                lo = mid + 1\n",
    "        else:\n",
    "            hi = mid - 1\n",
    "    return -1\n",
    "\n",
    "# ejemplos\n",
    "jobs = [(1, 2, 50), (3, 5, 20), (6, 19, 100), (2, 100, 200)] # (inicio, fin, beneficio), el máximo es 250\n",
    "max_gain = weighted_interval_scheduling(jobs)\n",
    "print(f\"El beneficio máximo que se puede obtener es: {max_gain}\")"
   ]
  },
  {
   "attachments": {},
   "cell_type": "markdown",
   "metadata": {},
   "source": [
    "##### Memoization\n",
    "\n",
    "En este caso se utilizó el enfoque de memoización"
   ]
  },
  {
   "cell_type": "code",
   "execution_count": 34,
   "metadata": {},
   "outputs": [
    {
     "name": "stdout",
     "output_type": "stream",
     "text": [
      "El beneficio máximo que se puede obtener es: 250\n"
     ]
    }
   ],
   "source": [
    "def programacion_intervalos_ponderados_memo(trabajos):\n",
    "    # Ordenar los trabajos por tiempo de finalización\n",
    "    trabajos.sort(key=lambda x: x[1])\n",
    "    tiempos_finalizacion = [trabajo[1] for trabajo in trabajos]\n",
    "\n",
    "    # Inicializar la tabla de memoización\n",
    "    memo = [-1 for _ in range(len(trabajos))]\n",
    "\n",
    "    return max_beneficio_memo(trabajos, tiempos_finalizacion, len(trabajos)-1, memo)\n",
    "\n",
    "\n",
    "def max_beneficio_memo(trabajos, tiempos_finalizacion, i, memo):\n",
    "    if i < 0:\n",
    "        return 0\n",
    "\n",
    "    if memo[i] != -1:\n",
    "        return memo[i]\n",
    "\n",
    "    # Incluir el trabajo actual\n",
    "    beneficio_incluir = trabajos[i][2]\n",
    "\n",
    "    # Buscar el último trabajo que no se superpone con el trabajo actual\n",
    "    ultimo_no_superpuesto = busqueda_binaria(\n",
    "        tiempos_finalizacion, trabajos[i][0])\n",
    "\n",
    "    if (ultimo_no_superpuesto != -1):\n",
    "        beneficio_incluir += max_beneficio_memo(\n",
    "            trabajos, tiempos_finalizacion, ultimo_no_superpuesto, memo)\n",
    "\n",
    "    # Excluir el trabajo actual\n",
    "    beneficio_excluir = max_beneficio_memo(\n",
    "        trabajos, tiempos_finalizacion, i-1, memo)\n",
    "\n",
    "    # Almacenar el máximo de incluir y excluir el trabajo actual en la tabla de memoización\n",
    "    memo[i] = max(beneficio_incluir, beneficio_excluir)\n",
    "\n",
    "    return memo[i]\n",
    "\n",
    "\n",
    "def busqueda_binaria(tiempos, tiempo_inicio):\n",
    "    lo, hi = 0, len(tiempos)-1\n",
    "\n",
    "    while lo <= hi:\n",
    "        mid = (lo + hi) // 2\n",
    "        if tiempos[mid] <= tiempo_inicio:\n",
    "            if tiempos[mid+1] > tiempo_inicio:\n",
    "                return mid\n",
    "            else:\n",
    "                lo = mid + 1\n",
    "        else:\n",
    "            hi = mid - 1\n",
    "    return -1\n",
    "\n",
    "\n",
    "# ejemplos\n",
    "# (inicio, fin, beneficio), el máximo es 250\n",
    "jobs = [(1, 2, 50), (3, 5, 20), (6, 19, 100), (2, 100, 200)]\n",
    "max_gain = weighted_interval_scheduling(jobs)\n",
    "print(f\"El beneficio máximo que se puede obtener es: {max_gain}\")"
   ]
  },
  {
   "attachments": {},
   "cell_type": "markdown",
   "metadata": {},
   "source": [
    "## Redes de Flujo"
   ]
  },
  {
   "attachments": {},
   "cell_type": "markdown",
   "metadata": {},
   "source": [
    "Son problemas que se pueden representar como grafos donde:\n",
    "\n",
    "* Los ejes transportan algún tipo de flujo\n",
    "* Los vértices actúan como conmutador de tráfico entre los diferentes ejes.\n",
    "\n",
    "Se define:\n",
    "\n",
    "* Capacidad: cantidad máxima que un eje puede transportar\n",
    "* Fuente: Vértice que genera tráfico saliente\n",
    "* Sumidero: Vértice que absorbe tráfico entrante\n",
    "* Flujo: Cantidad transportada por un eje\n",
    "\n",
    "Sea G=(V, E) un grafo dirigido, para todo e perteneciente a E se toma Ce >= 0 (valor entero) a su capacidad. Existe un único s perteneciente a V llamado fuente (Source) sin ejes entrantes y un único t perteneciente a V llamado sumidero (Sink) (sin ejes salientes). El resto de los vértices son \"internos\".\n",
    "Se define flujo s-t como la función f que mapea a cada eje e a un valor real no negativo. Debe satisfacer:\n",
    "* Para cada e perteneciente a E, 0 <= f(e) <= Ce (condición de capacidad)\n",
    "* Para cada v perteneciente a V - {s, t}, la suma de los flujos entrantes es igual a la suma de los flujos salientes (condición de conservación de flujo)\n",
    "\n",
    "El valor del flujo se define como la cantidad de flujo generado por la fuente"
   ]
  },
  {
   "attachments": {},
   "cell_type": "markdown",
   "metadata": {},
   "source": [
    "### Algoritmo de Ford-Fulkerson"
   ]
  },
  {
   "attachments": {},
   "cell_type": "markdown",
   "metadata": {},
   "source": [
    "Dada una red de flujo G y un flujo f en G, se define el grafo residual Gf (de G con respecto a f) a:\n",
    "\n",
    "* Los mismos Vértices de G\n",
    "* Ejes hacia adelante: para cada e=(u,v) perteneciente a E en el que f(e) < Ce. Lo incluiremos en Gf con capacidad Ce-f(e) (capacidad residual de flujo)\n",
    "* Ejes hacia atras: para cada e=(u,v) perteneciente a E en el que f(e) > 0. Incluiremos e'=(v,u) con capacidad f(e).\n",
    "\n",
    "El flujo retornado por el algoritmo de Ford-Fulkerson es el flujo máximo."
   ]
  },
  {
   "cell_type": "code",
   "execution_count": 16,
   "metadata": {},
   "outputs": [],
   "source": [
    "def find_path(graph, source, sink, path, min_flow):\n",
    "\n",
    "    if source == sink:\n",
    "        return path, min_flow\n",
    "\n",
    "    for neighbor in graph[source]:\n",
    "        capacity = graph[source][neighbor]\n",
    "        if capacity > 0 and neighbor not in path:\n",
    "\n",
    "            min_flow = min(min_flow, capacity)\n",
    "\n",
    "            result_path, result_flow = find_path(\n",
    "                graph, neighbor, sink, path + [neighbor], min_flow)\n",
    "\n",
    "            if result_path is not None:\n",
    "                return result_path, result_flow\n",
    "\n",
    "    return None, None\n",
    "\n",
    "\n",
    "def ford_fulkerson(graph, source, sink):\n",
    "\n",
    "    max_flow = 0\n",
    "    path, flow = find_path(graph, source, sink, [source], float('inf'))\n",
    "\n",
    "    while path is not None:\n",
    "\n",
    "        max_flow += flow\n",
    "\n",
    "        for i in range(len(path) - 1):\n",
    "            u = path[i]\n",
    "            v = path[i + 1]\n",
    "            graph[u][v] -= flow\n",
    "            graph[v][u] += flow\n",
    "\n",
    "        path, flow = find_path(graph, source, sink, [source], float('inf'))\n",
    "\n",
    "    return max_flow"
   ]
  },
  {
   "cell_type": "code",
   "execution_count": 17,
   "metadata": {},
   "outputs": [],
   "source": [
    "# esta es una función adicional, no indispensable, para leer el grafo desde un archivo de texto y cargarlo en memoria\n",
    "\n",
    "def read_graph(file_path):\n",
    "\n",
    "    graph = {}\n",
    "\n",
    "    with open(file_path) as file:\n",
    "        for line in file:\n",
    "            u, v, capacity = line.strip().split(',')\n",
    "            capacity = int(capacity)\n",
    "\n",
    "            if u not in graph:\n",
    "                graph[u] = {}\n",
    "            if v not in graph:\n",
    "                graph[v] = {}\n",
    "\n",
    "            graph[u][v] = capacity\n",
    "            graph[v][u] = capacity\n",
    "\n",
    "    return graph"
   ]
  },
  {
   "attachments": {},
   "cell_type": "markdown",
   "metadata": {},
   "source": [
    "A partir de este ejemplo principal se tienen distintas variantes de redes de flujo"
   ]
  },
  {
   "attachments": {},
   "cell_type": "markdown",
   "metadata": {},
   "source": [
    "### Circulación con demandas"
   ]
  },
  {
   "attachments": {},
   "cell_type": "markdown",
   "metadata": {},
   "source": [
    "Sea una red de flujo G=(V,E), cada v perteneciente a V, tiene una demanda dv entera:\n",
    "\n",
    "* Si dv > 0 => V demanda dv de flujo, v es un sumidero\n",
    "* Si dv < 0 => V produce dv de flujo, v es una fuente\n",
    "* Si dv = 0 => V es vértice interno\n",
    "\n",
    "Existen:\n",
    "\n",
    "* un set S de fuentes que generan flujo\n",
    "* un set T de sumideros que absorben flujo\n",
    "* Tanto los S y T pueden tener vértices de entrada y de salida\n",
    "\n",
    "La circulación con demanda dv es una función f que asigna un número real no negativo a cada vértice. Debe satisfacer:\n",
    "\n",
    "* Para cada e perteneciente a E, 0 <= f(e) <= Ce (condición de capacidad)\n",
    "* Para cada v perteneciente a V, fin(V) - fout(V) = dv (condición de demanda)\n",
    "\n",
    "Es similar al anterior, pero se agrega como condición que ciertos ejes tengan un flujo mínimo. Debe cumplir las siguientes condiciones:\n",
    "\n",
    "* Para cada e perteneciente a E, le <= f(e) <= Ce (condición de capacidad)\n",
    "* Para cada v perteneciente a V, fin(V) - fout(V) = dv (condición de demanda)"
   ]
  },
  {
   "attachments": {},
   "cell_type": "markdown",
   "metadata": {},
   "source": [
    "### Matching y Diseño de encuestas"
   ]
  },
  {
   "attachments": {},
   "cell_type": "markdown",
   "metadata": {},
   "source": [
    "Ver en powerpoint"
   ]
  },
  {
   "attachments": {},
   "cell_type": "markdown",
   "metadata": {},
   "source": [
    "### Selección de proyectos"
   ]
  },
  {
   "attachments": {},
   "cell_type": "markdown",
   "metadata": {},
   "source": [
    "Se pueden representar las relaciones entre proyectos como un grafo G=(V,E). Cada proyecto i es un nodo i perteneciente a V. Además, cada proyecto j prerequisito al proyecto i es un eje j-i perteneciente a E."
   ]
  },
  {
   "attachments": {},
   "cell_type": "markdown",
   "metadata": {},
   "source": [
    "### Acelerando Ford-Fulkerson"
   ]
  },
  {
   "attachments": {},
   "cell_type": "markdown",
   "metadata": {},
   "source": [
    "Para acelerar el algoritmo de Ford-Fulkerson se debe tener en cuenta que la selección de caminos s-t malos puede ralentizar mucho la finalización del algoritmo. Para realizar una selección eficiente de cmaino s-t se debe intentar elegir aquellos caminos con mayor cuellos de botella, idealmente seleccionar de mayor cuello de botella para cada paso. Manetener esta información actualizada puede ser costoso. Existen varios métodos para intentar realizar selecciones convenientes. Por ejemplo: método de parámetro de escalado. Se utiliza un parámetro delta para buscar caminos con bottleneck(P,f) > delta. Inicialmente tomará la potencia de 2 más grande que sea no mayor a la suma capacidad de los ejes que salen de s. Luego, se repetirá hasta hallar el flujo máximo. Se arma grafo residual unicamente con los ejes que superen delta y buscar caminos s-t en ese subgrafo y proceder igual que en Ford-Fulkerson. De no existir más caminos, se reduce delta a la mitad.\n",
    "\n",
    "Se recomienda revisar el powerpoint."
   ]
  },
  {
   "attachments": {},
   "cell_type": "markdown",
   "metadata": {},
   "source": [
    "### Edmonds-Karp"
   ]
  },
  {
   "attachments": {},
   "cell_type": "markdown",
   "metadata": {},
   "source": [
    "Es Ford-Fulkerson con un único cambio, calcula el camino de aumento de longitud mínima. Su complejidad es fuertemente polinómica, a diferencia de FF que es pseudo polinómica dependiendo de las capacidades. Cuanto mayor longitud tenga el camino de aumento, más probable será que el bottleneck encontrado sea menor. Progresivamente se van consumiendo los caminos de menor longitud.\n",
    "\n",
    "Se recomienda revisar el powerpoint."
   ]
  },
  {
   "attachments": {},
   "cell_type": "markdown",
   "metadata": {},
   "source": [
    "### Programación de vuelos"
   ]
  },
  {
   "attachments": {},
   "cell_type": "markdown",
   "metadata": {},
   "source": [
    "La idea consiste en que cuando un vuelo llega a una ciudad, si está a hora para volver a salir sale de esa ciudad.\n",
    "\n",
    "Pasos:\n",
    "\n",
    "1. Construir con los n vuelos la red de flujo (con demandas y límite inferior)\n",
    "2. Reducirlo a un problema con demanda\n",
    "3. Reducirlo a un problema de flujo máximo\n",
    "4. Resolverlo mediante Ford-Fulkerson\n",
    "5. Verificar si los flujos resultantes satisfacen las restricciones."
   ]
  },
  {
   "attachments": {},
   "cell_type": "markdown",
   "metadata": {},
   "source": [
    "### Segmentación de imágenes"
   ]
  },
  {
   "attachments": {},
   "cell_type": "markdown",
   "metadata": {},
   "source": [
    "Llamaremos V al conjunto de pixeles que forman la imagen. Forman una cuadrícula. Cada pixel i tiene un conjunto de pixels vecinos, 8 para los pixels internos (3 o 5) para los externos. Se puede ver como un grafo G=(v,E), cada relación de vecindad es bidireccional. Se puede pensar como 2 ejes direccionados.\n",
    "\n",
    "Pasos:\n",
    "\n",
    "1. Dada la imagen y los parámetros pij, ai, bi para todo pixel constriur la red de flujo según método\n",
    "2. Resolver problema de flujo máximo mediante Ford-Fulkerson\n",
    "3. Desde el grafo residual final, realizar BFS desde S. Todos los nodos alcanzables serán los pixels del segmento \"fondo\". El resto pertenece a los pixels del segmento \"primer plano\"."
   ]
  },
  {
   "attachments": {},
   "cell_type": "markdown",
   "metadata": {},
   "source": [
    "### Eliminación en Torneo"
   ]
  },
  {
   "attachments": {},
   "cell_type": "markdown",
   "metadata": {},
   "source": [
    "Sea S un toreno donde participan S equipos. Cada equipo s tiene una cantidad de wi de partidos ganados. Para cada par de equipos x,y les queda por enfrentarse gxy veces. Se quiere que dado un equipo z determinar si tiene posibilidades de quedar primero.\n",
    "\n",
    "Se recomienda revisar el powerpoint."
   ]
  },
  {
   "attachments": {},
   "cell_type": "markdown",
   "metadata": {},
   "source": [
    "## Complejidad Algorítmica"
   ]
  },
  {
   "attachments": {},
   "cell_type": "markdown",
   "metadata": {},
   "source": [
    "### Definiciones\n",
    "\n",
    "- Algoritmos Tractables: algoritmos resolubles en tiempo polinomial.\n",
    "- Problemas de optimización: son aquellos problemas que buscan la mejor solución para maximizar (o minimizar) un resultado.\n",
    "- Problemas de decisión: son aquellos problemas cuya solución solo puede tomar dos valores: Sí o No.\n",
    "- Adecuación de problemas de optimización a decisión: se puede reformular un problema a otro (o viceversa) y encontrar la respuesta en tiempo polinómico.\n",
    "- Caracterización de la entrada de un algoritmo: se debe representar la instancia de modo que el programa lo entienda. Los parámetros de un problema computacional se condifican como una cadena binaria finita \"s\", cuya longitud se puede medir como un parámetro n = |s| y se utiliza para medir la complejidad del algoritmo resolvente del problema.\n",
    "- Resolución eficiente: se considera una resolución eficiente a un problema S, si para toda instancia I de S, encuentra la solución en tiempo polinomial existe una constante k / A = O(n^k)."
   ]
  },
  {
   "attachments": {},
   "cell_type": "markdown",
   "metadata": {},
   "source": [
    "### Clase P\n",
    "\n",
    "Es el conjunto de problemas de decisión para los que existe un algoritmo que lo resuelve de forma eficiente."
   ]
  },
  {
   "attachments": {},
   "cell_type": "markdown",
   "metadata": {},
   "source": [
    "### Certificación Eficiente\n",
    "\n",
    "Un algoritmo B certifica (o verifica) eficientemente un problema de decisión S si para toda instancia I de S, dado un certificado t que contiene evidencia de la solución s(I) es \"sí\". Puede verificar esta afirmación en tiempo polinomial, entonces existe una constante k/B <= O(n^k).\n",
    "El algoritmo B recibe 2 parámetros: la instancia I y la t. \"Responde Sí o No\"."
   ]
  },
  {
   "attachments": {},
   "cell_type": "markdown",
   "metadata": {},
   "source": [
    "### Clase NP\n",
    "\n",
    "Es el conjunto de problemas de decisión para los que existe un algoritmo que lo certifique en forma eficiente."
   ]
  },
  {
   "attachments": {},
   "cell_type": "markdown",
   "metadata": {},
   "source": [
    "### P incluido en NP y viceversa\n",
    "\n",
    "Si el problema Q pertenece a P, entonces Q pertenece a NP. Si no, P no es igual a NP."
   ]
  },
  {
   "attachments": {},
   "cell_type": "markdown",
   "metadata": {},
   "source": [
    "### Caja Negra\n",
    "\n",
    "La idea es que si puedes reducir un problema conocido NP-Completo a otro problema en tiempo polinómico, entonces el segundo problema también es NP-Completo. La “Caja Negra” en este contexto se refiere a una función o algoritmo que se puede usar sin conocer los detalles internos de cómo funciona. En otras palabras, puedes usar la “Caja Negra” para transformar una instancia de un problema en una instancia de otro problema. Corresponde a una reducción en la que ambas transformaciones se realizan en tiempo polinomial. Por ejemplo, supongamos que tienes un problema NP-Completo conocido y una “Caja Negra” que resuelve este problema. Ahora, si puedes usar esta “Caja Negra” para resolver otro problema en tiempo polinómico, entonces puedes concluir que este otro problema también es NP-Completo\n",
    "\n",
    "Sean X e Y problemas, entonces:\n",
    "\n",
    "Y <=p X se lee como Y es polinomialmente reducible (en tiempo) a X\n",
    "\n",
    "si es posible transformar cualquier instancia de y en una instancia de x en tiempo polinómico.\n",
    "\n",
    "**Propiedades**:\n",
    "\n",
    "- Acotar un problema a clase P: Sean X, Y problemas si X pertenece a P e Y <=p X, entonces Y pertenece a P (porque es igual o más complicado que Y). Además, si Y no pertenece a P e Y <=p X, entonces X no pertenece a P (porque es igual o más complicado que Y).\n",
    "- Equivalencia: Sean X, Y problemas. Si Y <=p X y X <=p Y, entonces X e Y tienen la misma complejidad.\n",
    "- Transitividad: Sean X, Y, Z problemas. Si Z <=p Y y Y <=p X, entonces Z <=p X."
   ]
  },
  {
   "attachments": {},
   "cell_type": "markdown",
   "metadata": {},
   "source": [
    "#### Ejemplo\n",
    "\n",
    "Supongamos que tienes una “Caja Negra” que resuelve el problema del camino más corto. Este problema consiste en encontrar el camino más corto entre dos nodos en un grafo. Ahora, quieres resolver el problema del viajante, que consiste en encontrar el camino más corto que visita cada nodo exactamente una vez.\n",
    "\n",
    "Aquí está cómo puedes usar la “Caja Negra” para resolver el problema del viajante:\n",
    "\n",
    "Para cada nodo en el grafo, usa la “Caja Negra” para encontrar el camino más corto a todos los otros nodos. Esto te da una matriz de distancias entre cada par de nodos.\n",
    "\n",
    "Ahora, el problema del viajante se reduce a encontrar el ciclo hamiltoniano más corto en esta matriz de distancias. Un ciclo hamiltoniano es un ciclo que visita cada nodo exactamente una vez.\n",
    "\n",
    "Puedes resolver este problema utilizando un algoritmo de fuerza bruta que prueba todas las permutaciones posibles de los nodos. Sin embargo, este algoritmo tiene una complejidad de tiempo factorial, lo que significa que no es eficiente para grafos grandes.\n",
    "\n",
    "Por lo tanto, aunque puedes usar la “Caja Negra” para reducir el problema del viajante al problema del camino más corto, la solución resultante no es eficiente. Esto demuestra que el problema del viajante es NP-Completo, ya que no conocemos ningún algoritmo eficiente para resolverlo."
   ]
  },
  {
   "attachments": {},
   "cell_type": "markdown",
   "metadata": {},
   "source": [
    "### Problemas NP-Completos\n",
    "\n"
   ]
  },
  {
   "attachments": {},
   "cell_type": "markdown",
   "metadata": {},
   "source": [
    "Es una clase de problemas en la teoría de la complejidad computacional. Para demostrar que un problema es NP-Completo, se deben cumplir 2 condiciones:\n",
    "\n",
    "1. Demostrar que el problema está en NP: Esto significa que, dada una solución al problema, se puede verificar si la solución es correcta en tiempo polinómico.\n",
    "\n",
    "2. Reducir un problema conocido NP-Completo al problema en cuestión en tiempo polinómico. Esto significa que se debe encontrar una manera de transformar cualquier instancia de un problema NP-Completo conocido en una instancia del problema en cuestión en tiempo polinómico."
   ]
  },
  {
   "attachments": {},
   "cell_type": "markdown",
   "metadata": {},
   "source": [
    "#### Ejemplo 1\n",
    "\n",
    "Para elaborar un juego de aventura gráfica se juntaron \"m\" equipos de diseñadores para proponer los diferentes escenarios. No todos los escenarios son compatibles entre sí. Por cada una de las \"n\" escenarios han anotado que equipo lo propuso y con cuales otros no es compatible. Desean poder seleccionar \"k\" escenarios compatibles para construir el juego. Se requiere que todos los escenarios pertenezcan al mismo equipo de diseñadores. Se pide: Demostrar que el problema es NP-Completo (Ayuda: tal vez le resulte útil utilizar clique)"
   ]
  },
  {
   "attachments": {},
   "cell_type": "markdown",
   "metadata": {},
   "source": [
    "##### Resolución\n",
    "\n",
    "1. El problema está en NP: Dado un conjunto de “k” escenarios, es posible verificar en tiempo polinómico si todos los escenarios son del mismo equipo y si son compatibles entre sí. Simplemente se debe recorrer cada par de escenarios en el conjunto y comprobar si son del mismo equipo y si son compatibles. Esto puede hacerse en tiempo O(k^2), que es polinómico.\n",
    "\n",
    "2. Reducción polinómica de un problema NP-Completo conocido: Se puede reducir el problema del clique, que es un problema NP-Completo conocido, a nuestro problema en cuestión. Dado un grafo G, se puede crear una instancia de nuestro problema de la siguiente manera:  \n",
    "i. Por cada nodo en G, creamos un escenario.  \n",
    "ii. Cada escenario es propuesto por el mismo equipo de diseñadores.  \n",
    "iii. Dos escenarios son compatibles si y solo si los nodos correspondientes en G están conectados por una arista.\n",
    "Ahora, un clique de tamaño “k” en G corresponde a un conjunto de “k” escenarios compatibles en nuestro problema. Por lo tanto, si pudiéramos resolver nuestro problema en tiempo polinómico, también podríamos resolver el problema del clique en tiempo polinómico. La reducción misma se puede hacer en tiempo polinómico, ya que simplemente estamos construyendo un escenario por cada nodo en G.\n",
    "\n",
    "Por lo tanto, se ha demostrado que el problema es NP-Completo."
   ]
  },
  {
   "attachments": {},
   "cell_type": "markdown",
   "metadata": {},
   "source": [
    "### Boolean Satisfiability Problem\n",
    "\n",
    "El Problema de satisfacibilidad booleana, también conocido como SAT, es un problema fundamental en la lógica y la ciencia de la computación. Consiste en determinar si existe una interpretación que satisface una fórmula booleana dada. En otras palabras, pregunta si las variables de una fórmula booleana dada pueden ser reemplazadas de manera consistente por los valores VERDADERO o FALSO de tal manera que la fórmula se evalúe como VERDADERA.\n",
    "\n",
    "Por ejemplo, la fórmula “a Y NO b” es satisfactoria porque se pueden encontrar los valores a = VERDADERO y b = FALSO, que hacen que (a Y NO b) = VERDADERO. En contraste, “a Y NO a” no es satisfactorio.\n",
    "\n",
    "SAT fue el primer problema que se demostró que es NP-completo. Esto significa que todos los problemas en la clase de complejidad NP, que incluye una amplia gama de problemas de decisión y optimización naturales, son como máximo tan difíciles de resolver como SAT. No se conoce ningún algoritmo que resuelva eficientemente cada problema SAT, y generalmente se cree que no existe tal algoritmo."
   ]
  },
  {
   "attachments": {},
   "cell_type": "markdown",
   "metadata": {},
   "source": [
    "##### Teorema Cook-Levin\n",
    "\n",
    "Todo problema perteneciente a NP es a lo sumo tan complejo de resolver que SAT."
   ]
  },
  {
   "attachments": {},
   "cell_type": "markdown",
   "metadata": {},
   "source": [
    "### NP-Hard\n",
    "\n",
    "NP-Hard, en la teoría de la complejidad computacional, es una clase de problemas que son \"al menos tan difíciles como los problemas más difíciles en NP\". Un problema H es NP-Hard si cada problema L en NP puede ser transformado polinómicamente en H. Esto significa que si puedes encontrar un algoritmo que resuelve uno de los problemas H de NP-Hard en tiempo polinómico, entonces es posible construir un algoritmo que trabaje en tiempo polinómico para cualquier problema de NP.\n",
    "Las condiciones para que un problema sea NP-Hard son:\n",
    "- El problema H es al menos tan difícil como el problema más difícil en NP. Esto se demuestra mostrando que cualquier problema en NP puede ser reducido a H en tiempo polinómico.\n",
    "- No se requiere que el problema H esté en NP, y por lo tanto, no tiene que ser un problema de decisión. Esto significa que los problemas NP-Hard pueden ser más generales que los problemas NP-Completos, que son tanto problemas de decisión como problemas en NP.\n",
    "Un ejemplo de un problema NP-Hard es el problema de la suma de subconjuntos. Se te da un conjunto de enteros, y el problema es determinar si existe un subconjunto no vacío cuya suma sea cero. Aunque este es un problema de decisión y es fácil de verificar, no se conoce ninguna solución eficiente."
   ]
  },
  {
   "attachments": {},
   "cell_type": "markdown",
   "metadata": {},
   "source": [
    "#### Vertex-Cover"
   ]
  },
  {
   "attachments": {},
   "cell_type": "markdown",
   "metadata": {},
   "source": [
    "#### Clique"
   ]
  },
  {
   "attachments": {},
   "cell_type": "markdown",
   "metadata": {},
   "source": [
    "En la teoría de grafos, un clique es un subconjunto de vértices de un grafo no dirigido tal que cada par de vértices distintos en el clique está conectado por una arista. En otras palabras, un clique es un subgrafo completamente conectado, lo que significa que todos los vértices en el clique están conectados entre sí.\n",
    "\n",
    "El problema del clique es un problema de optimización combinatoria NP-Completo que se pregunta: dado un grafo y un número k, ¿existe un clique de tamaño k en el grafo?. Este problema es fundamental en la teoría de la complejidad computacional y tiene muchas aplicaciones en ciencias de la computación, bioinformática, redes sociales, y más."
   ]
  },
  {
   "attachments": {},
   "cell_type": "markdown",
   "metadata": {},
   "source": [
    "### Corte"
   ]
  },
  {
   "cell_type": "code",
   "execution_count": null,
   "metadata": {},
   "outputs": [],
   "source": [
    "def cut(L, precios):\n",
    "\n",
    "    cortes = [0] * (L+1)\n",
    "\n",
    "    for i in range(1, L+1):\n",
    "        \n",
    "        max_val = -1\n",
    "\n",
    "        for j in range(0, i):\n",
    "\n",
    "            max_val = max(max_val, precios[i]+cortes[i-j-1])\n",
    "\n",
    "        cortes[i] = max_val\n",
    "\n",
    "    return cortes[L]\n"
   ]
  }
 ],
 "metadata": {
  "kernelspec": {
   "display_name": "Python 3",
   "language": "python",
   "name": "python3"
  },
  "language_info": {
   "codemirror_mode": {
    "name": "ipython",
    "version": 3
   },
   "file_extension": ".py",
   "mimetype": "text/x-python",
   "name": "python",
   "nbconvert_exporter": "python",
   "pygments_lexer": "ipython3",
   "version": "3.11.5"
  },
  "orig_nbformat": 4
 },
 "nbformat": 4,
 "nbformat_minor": 2
}
