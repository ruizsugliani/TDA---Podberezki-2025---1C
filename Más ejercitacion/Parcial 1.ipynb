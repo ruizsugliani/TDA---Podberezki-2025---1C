{
 "cells": [
  {
   "cell_type": "markdown",
   "metadata": {},
   "source": [
    "# Parcial - 23 de Octubre de 2023"
   ]
  },
  {
   "cell_type": "markdown",
   "metadata": {},
   "source": [
    "## Fuerza Bruta (en este caso se resuelve mediante Backtracking)\n",
    "\n",
    "El problema de coloreo de grafos intenta asignar un color a cada nodo de forma tal que ningún par de nodos adyacentes comparten el mismo color. Sea el grafo G=(V, E) se desea obtener una coloración de no más de k colores. Resuelva utilizando Backtracking."
   ]
  },
  {
   "cell_type": "markdown",
   "metadata": {},
   "source": [
    "### PSEUDOCÓDIGO\n",
    "\n",
    "    Sea C[x] el color asignado al vértice x\n",
    "    Sea A[x] la lista de vértices adyacentes al vértice x (A es una matriz de adyacencia)\n",
    "    Sea n el total de vértices\n",
    "    \n",
    "    vértice = 1\n",
    "\n",
    "    Si Backtrack(vértice)\n",
    "        Imprimir C[x] para todo vértice x del grafo\n",
    "    sino\n",
    "        Imprimir 'no hay un coloreo posible'\n",
    "\n",
    "    Backtrack(nroVertice):\n",
    "\n",
    "        Por cada color disponible:\n",
    "            C[nroVertice] = color\n",
    "\n",
    "            Sea coloreoValido = true\n",
    "            Por cada vértice x en A[nroVertice]:\n",
    "\n",
    "                Si C[nroVertice] == C[x]:\n",
    "                    coloreoValido = false\n",
    "                \n",
    "            Si (coloreoValido y nroVertice == n):\n",
    "                retornar True\n",
    "            \n",
    "            Si (coloreoValido y nroVertice < n):\n",
    "                Si Backtrack(nroVertice+1):\n",
    "                    retornar True\n",
    "            \n",
    "            Quitar color a C[nroVertice]\n",
    "\n",
    "        Retornar False\n",
    "\n"
   ]
  },
  {
   "cell_type": "markdown",
   "metadata": {},
   "source": [
    "La complejidad temporal corresponde a la multiplicación de las siguientes multiplicidades:\n",
    "En el peor de los casos no es posible podar el árbol, por lo que se debe recorrer cada uno de los nodos con una complejidad O(k^n), en los nodos en el peor caso se debe hacer un trabajo de O(n) correspondiente al etiquetado de los vértices adyacentes del grafo y a su vez se debe hacer un trabajo O(k) para generar los nodos descendientes por cada color posible. Entonces, la complejidad total es O(n * k * k^n).\n",
    "\n",
    "La complejidad espacial es O(n) ya que debe almacenar hasta un máximo de n vértices coloreados."
   ]
  },
  {
   "cell_type": "markdown",
   "metadata": {},
   "source": [
    "## Greedy\n",
    "\n",
    "La costa de un país cuenta con 'n' faros. Cada faro 'i' cubre una cantidad de kilómetros de costa lineal no interrumpida a su alrededor comenzando por el kilómetro s_i y finalizando en el kilómetro e_i. Muchos de esos de faros se solapan en su cobertura, incluso algunos están totalmente cubiertos entre sí. Para minimizar la asignación de personal que requieren nos solicitan que seleccionemos el menor subconjunto de faros que cubran totalmente la línea costera o afirmar que no es posible. Proponga un algoritmo greedy que lo resuelva."
   ]
  },
  {
   "cell_type": "markdown",
   "metadata": {},
   "source": [
    "### PSEUDOCÓDIGO\n",
    "\n",
    "    Ordenar los faros en orden ascendente de acuerdo a su posición final (e_i).\n",
    "    \n",
    "    Inicializar un contador para los faros seleccionados (farosSeleccionados) en 0.\n",
    "    \n",
    "    Mientras haya faros sin procesar:\n",
    "        Seleccionar el faro con la posición final más pequeña que aún no ha sido procesado (faroActual).\n",
    "        \n",
    "        Incrementar farosSeleccionados en 1.\n",
    "        \n",
    "        Eliminar todos los faros cuya posición inicial (s_i) es menor o igual a la posición final (e_i) del faroActual.\n",
    "    \n",
    "    Si la última posición final (e_i) del faro seleccionado es menor que la longitud total de la costa, entonces no es posible cubrir toda la costa con los faros disponibles.\n",
    "    \n",
    "    De lo contrario, retornar farosSeleccionados.\n"
   ]
  },
  {
   "cell_type": "markdown",
   "metadata": {},
   "source": [
    "Este algoritmo selecciona siempre el faro que termina primero, asegurándose de que se cubra la mayor cantidad de costa posible antes de seleccionar el siguiente faro. Si la última posición final del faro seleccionado es menor que la longitud total de la costa, entonces no es posible cubrir toda la costa con los faros disponibles. De lo contrario, el algoritmo retorna la cantidad mínima de faros necesarios para cubrir toda la costa.\n",
    "\n",
    "Por favor, ten en cuenta que este algoritmo asume que los faros están representados como un conjunto de pares ordenados (s_i, e_i), y que la longitud total de la costa es conocida."
   ]
  },
  {
   "cell_type": "markdown",
   "metadata": {},
   "source": [
    "## Programación Dinámica\n",
    "\n",
    "El dueño de un salón de convenciones debe decidir a qué exposiciones y congresos alquilará en los próximos meses. Ha reunido 'n' propuestas cada una de ellas con una ganancia diferente según los servicios solictados. Algunos de ellos se superponen entre sí. Para cada propuesta conoce: fecha de inicio, fecha de finalización, monto a ganar por realizarlo. Planea elegir las que duren menos. Mostrar que esta solución no es óptima. Proponer una solución utilizando programación dinámica que responda propuestas elegir y cuánto se puede ganar."
   ]
  },
  {
   "cell_type": "markdown",
   "metadata": {},
   "source": [
    "La estrategia de elegir las propuestas que duren menos no es óptima porque puede haber propuestas más largas que generen más ganancias. Por ejemplo, si tienes una propuesta de 1 día que genera $100 y otra de 2 días que genera $300, la estrategia de elegir la propuesta más corta te haría perder $200.\n",
    "\n",
    "Una mejor estrategia sería utilizar programación dinámica para maximizar las ganancias totales."
   ]
  },
  {
   "cell_type": "markdown",
   "metadata": {},
   "source": [
    "### PSEUDOCÓDIGO\n",
    "\n",
    "    Ordenar las propuestas en orden ascendente de acuerdo a su fecha de finalización.\n",
    "\n",
    "    Inicializar un arreglo dp de tamaño n, donde dp[i] es la ganancia máxima que se puede obtener considerando las primeras i propuestas.\n",
    "\n",
    "    Para cada propuesta i de 1 a n:\n",
    "\n",
    "        Encontrar la propuesta j que no se superpone con la propuesta i y que tiene la fecha de finalización más cercana a la fecha de inicio de la propuesta i.\n",
    "\n",
    "        Calcular la ganancia si se toma la propuesta i: ganancia = monto de la propuesta i + dp[j].\n",
    "\n",
    "        Calcular la ganancia si no se toma la propuesta i: ganancia = dp[i-1].\n",
    "\n",
    "        Actualizar dp[i] con el máximo de las dos ganancias calculadas.\n",
    "\n",
    "    Retornar dp[n] como la ganancia máxima que se puede obtener.\n"
   ]
  },
  {
   "cell_type": "markdown",
   "metadata": {},
   "source": [
    "Este algoritmo garantiza que se obtendrá la máxima ganancia posible al considerar todas las combinaciones posibles de propuestas. Por favor, ten en cuenta que este algoritmo asume que las propuestas están representadas como un conjunto de triples ordenados (fecha de inicio, fecha de finalización, monto a ganar), y que las fechas están representadas como números enteros."
   ]
  },
  {
   "cell_type": "markdown",
   "metadata": {},
   "source": [
    "## Redes de Flujo\n",
    "\n",
    "Un museo estrena un nuevo sistema de seguridad con 'n' cámaras. En una nueva exposición, siguiendo las indicaciones del curador, se ubicaron 'm' piezas. Cada cámara solo puede cubrir una pieza. Por las ubicaciones se conoce que cámaras pueden cubrir qué piezas. Resolver el problema utilizando redes de flujo respondiendo si es posible cubrir todas las piezas y en ese caso qué asignaciones realizar."
   ]
  },
  {
   "cell_type": "markdown",
   "metadata": {},
   "source": [
    "Para resolver este grafo plantear Ford-Fulkerson, no es mucho más que eso. Agregar un ejemplo y un gráfico del grafo."
   ]
  }
 ],
 "metadata": {
  "kernelspec": {
   "display_name": "Python 3",
   "language": "python",
   "name": "python3"
  },
  "language_info": {
   "codemirror_mode": {
    "name": "ipython",
    "version": 3
   },
   "file_extension": ".py",
   "mimetype": "text/x-python",
   "name": "python",
   "nbconvert_exporter": "python",
   "pygments_lexer": "ipython3",
   "version": "3.11.5"
  }
 },
 "nbformat": 4,
 "nbformat_minor": 2
}
