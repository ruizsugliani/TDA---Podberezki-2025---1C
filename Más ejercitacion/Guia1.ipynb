{
 "cells": [
  {
   "attachments": {},
   "cell_type": "markdown",
   "metadata": {},
   "source": [
    "# Guía de ejercicios 1"
   ]
  },
  {
   "attachments": {},
   "cell_type": "markdown",
   "metadata": {},
   "source": [
    "## Generar y probar, Backtracking y Branch and Bound"
   ]
  },
  {
   "attachments": {},
   "cell_type": "markdown",
   "metadata": {},
   "source": [
    "### Imports"
   ]
  },
  {
   "cell_type": "code",
   "execution_count": 1,
   "metadata": {},
   "outputs": [],
   "source": [
    "# import sys\n",
    "import math\n",
    "import numpy as np\n",
    "import itertools\n",
    "from collections import defaultdict\n",
    "import pulp"
   ]
  },
  {
   "attachments": {},
   "cell_type": "markdown",
   "metadata": {},
   "source": [
    "#### Configuración"
   ]
  },
  {
   "cell_type": "code",
   "execution_count": 2,
   "metadata": {},
   "outputs": [],
   "source": [
    "# Límite de Recursión\n",
    "# sys.setrecursionlimit(3000)\n",
    "# print(sys.getrecursionlimit())"
   ]
  },
  {
   "attachments": {},
   "cell_type": "markdown",
   "metadata": {},
   "source": [
    "Los algoritmos utilizados son de autoría propia, pero están simplificados para que se entiendan rápido. Se pueden resumir de la siguiente manera:"
   ]
  },
  {
   "attachments": {},
   "cell_type": "markdown",
   "metadata": {},
   "source": [
    "##### Generar y Probar"
   ]
  },
  {
   "cell_type": "code",
   "execution_count": 3,
   "metadata": {},
   "outputs": [],
   "source": [
    "# GENERAR Y PROBAR\n",
    "\n",
    "def generate_solutions():\n",
    "\n",
    "    # genero todas las soluciones posibles, sean válidas o no\n",
    "    return []\n",
    "\n",
    "def test_solutions(solutions):\n",
    "\n",
    "    # verifico si la solución cumple con la condición especificada\n",
    "    return solutions\n",
    "\n",
    "def show_solutions(solutions):\n",
    "\n",
    "    # muestro la solución por pantalla\n",
    "    for solution in solutions:\n",
    "        print(solution)\n",
    "\n",
    "# mi función principal donde resuelvo el problema\n",
    "def main():\n",
    "\n",
    "    possibleSolutions = generate_solutions()\n",
    "    validSolutions = test_solutions(possibleSolutions)\n",
    "    show_solutions(validSolutions)\n"
   ]
  },
  {
   "attachments": {},
   "cell_type": "markdown",
   "metadata": {},
   "source": [
    "##### Backtrack"
   ]
  },
  {
   "cell_type": "code",
   "execution_count": 4,
   "metadata": {},
   "outputs": [],
   "source": [
    "# BACKTRACK \n",
    "\n",
    "def is_solution(state):\n",
    "\n",
    "    # verifico si el estado es una solución válida\n",
    "    return True\n",
    "\n",
    "def solve_problem(path):\n",
    "\n",
    "    # acá se puede hacer un print por ejemplo recorriendo todos los estados del camino\n",
    "    for state in path:\n",
    "        print(state)\n",
    "\n",
    "def generate_next_states(state):\n",
    "\n",
    "    # genero todos los estados posibles a partir del estado actual sean o no válidos\n",
    "    return []\n",
    "\n",
    "def is_valid(state, path):\n",
    "\n",
    "    # 1. verifico si el estado es válido y cumple con todas las condiciones\n",
    "    # 2. verifico si el estado ya fue visitado o es un estado anterior del camino, estoy es muy importante ya que si no\n",
    "    #    volverá a recorrer estados pasado que se hayan regenerado.\n",
    "\n",
    "    return False\n",
    "\n",
    "# Defino mi función backtrack tal que pasa un estado (state) y un camino (path) que almacena los estados recorridos hasta el momento\n",
    "def backtrack(state, path):\n",
    "    \n",
    "    # actualizo el camino con el estado actual\n",
    "    path = path + [state]\n",
    "\n",
    "    if is_solution(state):\n",
    "        # acá se puede hacer si no, return path o return state (si quiero solo el último estado)\n",
    "        # o bien se puede realizar un print o lo que se desee\n",
    "        # si quiero todas las soluciones posibles no debo hacer un return\n",
    "        solve_problem(path)\n",
    "    else:\n",
    "        for nextState in generate_next_states(state):\n",
    "            if is_valid(nextState, path):\n",
    "                # acá se puede poner un return para que termine cuando encuentre la primera solución\n",
    "                # y también si lo que se quiere es que devuelva la solución, en vez de usar un Global\n",
    "                # que no es una buena práctica\n",
    "                # return backtrack(nextState, path)\n",
    "                backtrack(nextState, path)"
   ]
  },
  {
   "attachments": {},
   "cell_type": "markdown",
   "metadata": {},
   "source": [
    "##### Branch and Bound"
   ]
  },
  {
   "attachments": {},
   "cell_type": "markdown",
   "metadata": {},
   "source": [
    "Se propone una actualización del Backtrack, ya que está basado en la misma idea, sumando la función exceeds_bound (supera el mejor bound), dependiendo el problema se considerará que supere o que no lo haga."
   ]
  },
  {
   "cell_type": "code",
   "execution_count": 5,
   "metadata": {},
   "outputs": [],
   "source": [
    "# BRANCH AND BOUND\n",
    "\n",
    "def is_best_solution(state):\n",
    "    # Es la mejor solución si (not exceeds_bound) y si cumple con las condiciones para que lo sea\n",
    "    return True\n",
    "\n",
    "def generate_next_states(state):\n",
    "    return []\n",
    "\n",
    "def is_valid(state, path):\n",
    "    return True\n",
    "\n",
    "# Calcula el costo del estado teniendo en cuenta el camino hasta ahora\n",
    "# Esto dependerá de como se defina el problema\n",
    "# Si estoy viajando por caminos y cada camino tiene un costo, \n",
    "# sumaré el costo de todos los caminos y del actual\n",
    "def calculate_path_length(state, path):\n",
    "    return 10\n",
    "\n",
    "# Verifico si el estado supera el límite de la mejor solución encontrada hasta el momento\n",
    "def exceeds_bound(state, path):\n",
    "    global best_solution, best_bound\n",
    "    state_bound = calculate_path_length(state, path)\n",
    "    return state_bound < best_bound\n",
    "\n",
    "def branch_and_bound(state, path):\n",
    "    global best_solution, best_bound\n",
    "    \n",
    "    path = path + [state]\n",
    "\n",
    "    if is_best_solution(state, path):\n",
    "        best_solution = state\n",
    "        best_bound = calculate_path_length(state, path)\n",
    "\n",
    "    else:\n",
    "        for nextState in generate_next_states(state):\n",
    "            if is_valid(nextState, path) and not exceeds_bound(nextState, path):\n",
    "                branch_and_bound(nextState, path)\n",
    "\n",
    "# estas variables debo crearlas fuera de las funciones para que todas puedan acceder a ellas\n",
    "best_solution = None\n",
    "best_bound = float('inf')\n",
    "\n",
    "def solve_problem():\n",
    "    \n",
    "    initial_state = ()\n",
    "    branch_and_bound(initial_state, [])\n",
    "    print(best_solution)\n",
    "    print(best_bound)"
   ]
  },
  {
   "attachments": {},
   "cell_type": "markdown",
   "metadata": {},
   "source": [
    "### Ejercicio 1"
   ]
  },
  {
   "attachments": {},
   "cell_type": "markdown",
   "metadata": {},
   "source": [
    "Contamos con un conjunto de \"n\" puntos (x, y) en el plano cartesiano. Un par de puntos es el más cercano si la distancia euclidiana entre ellos es menor a la de cualquier otro par. Resuelva el problema mediante un algoritmo naive (\"ingenuo\", se refiere a búsqueda exhaustiva) que nos informe cuales son los 3 pares de puntos más cercanos."
   ]
  },
  {
   "attachments": {},
   "cell_type": "markdown",
   "metadata": {},
   "source": [
    "#### Resolución"
   ]
  },
  {
   "attachments": {},
   "cell_type": "markdown",
   "metadata": {},
   "source": [
    "Supongo, esto no lo dice el ejercicio, que no hay problema si, por ejemplo, el P1 = (0,0), hace pareja con más de un punto. Es decir, considero que (P1, P2) es un par y (P1, P3), son pares diferentes y, no hay inconveniente, si P1 pertenece a más de un par, se considera como otro diferente.  \n",
    "Vale la pena aclarar, que en la generación de soluciones posibles, (P1, P2) = (P2, P1) ya que se compara la distancia euclideana, que es igual, por lo tanto no se tiene en cuenta al generarla porque sería \"duplicar\" el par en cierta forma."
   ]
  },
  {
   "cell_type": "code",
   "execution_count": 6,
   "metadata": {},
   "outputs": [],
   "source": [
    "# calculo distancia euclideana\n",
    "def distancia_euclideana(p1, p2):\n",
    "    return math.sqrt((p1[0] - p2[0]) ** 2 + (p1[1] - p2[1]) ** 2)\n",
    "\n",
    "# verifico validez de los puntos\n",
    "def puntos_validos(puntos, limite_de_corte):\n",
    "    cant_puntos = len(puntos)\n",
    "    return (cant_puntos < limite_de_corte) or (cant_puntos < 2)\n",
    "\n",
    "def encontrar_pares_cercanos(puntos, limite_de_corte=3):\n",
    "    pares_mas_cercanos = []\n",
    "\n",
    "    if puntos_validos(puntos, limite_de_corte):\n",
    "        return pares_mas_cercanos\n",
    "\n",
    "    cant_puntos = len(puntos)\n",
    "\n",
    "    # genero soluciones posibles con identificadores\n",
    "    for i in range(0, cant_puntos):\n",
    "        for j in range(i + 1, cant_puntos):\n",
    "            dist = distancia_euclideana(puntos[i], puntos[j])\n",
    "            pares_mas_cercanos.append((puntos[i], puntos[j], dist))\n",
    "\n",
    "    return pares_mas_cercanos[:limite_de_corte]"
   ]
  },
  {
   "cell_type": "markdown",
   "metadata": {},
   "source": [
    "La complejidad temporal de este algoritmo es O(n^2) donde n es la cantidad de puntos. Esto se debe a que el algoritmo itera sobre cada par de puntos una vez, lo que resulta en una complejidad cuadrática. La complejidad espacial es O(n) siendo n la cantidad de puntos, ya que se almacenan en una lista. El ordenamiento de la lista es O(n log n) pero es despreciable frente a la complejidad cuadrática."
   ]
  },
  {
   "attachments": {},
   "cell_type": "markdown",
   "metadata": {},
   "source": [
    "Genero un conjunto de puntos de pruebas aleatorio para verificar el algoritmo"
   ]
  },
  {
   "cell_type": "code",
   "execution_count": 7,
   "metadata": {},
   "outputs": [
    {
     "name": "stdout",
     "output_type": "stream",
     "text": [
      "[((0, 0), (1, 0), 1.0), ((0, 0), (0, 1), 1.0), ((3, 7), (4, 7), 1.0)]\n"
     ]
    }
   ],
   "source": [
    "puntos = [(0, 0), (3, 7), (1, 9), (1, 0), (2, 1), (0, 1), (4, 7), (3, 6), (4, 6), (8, 5)]\n",
    "\n",
    "print(encontrar_pares_cercanos(puntos, 3))"
   ]
  },
  {
   "attachments": {},
   "cell_type": "markdown",
   "metadata": {},
   "source": [
    "### Ejercicio 2"
   ]
  },
  {
   "attachments": {},
   "cell_type": "markdown",
   "metadata": {},
   "source": [
    "Un cuadrado mágico de tamaño \"n\" es una disposición de los números enteros desde 1 a n^2 en una matriz de nxn que cumple las siguientes condiciones. Cada número aparece solo una vez. La suma de cada fila, columna y diagonal principal da el mismo valor. Proponer un algoritmo por generar y probar que dado un valor \"n\" calcule, si existe, un cuadrado mágico de ese tamaño."
   ]
  },
  {
   "attachments": {},
   "cell_type": "markdown",
   "metadata": {},
   "source": [
    "#### Resolución"
   ]
  },
  {
   "attachments": {},
   "cell_type": "markdown",
   "metadata": {},
   "source": [
    "Este ejercicio se propone resolverlo por \"Permutaciones\" y \"Generar y Probar\". Genera todas las permutaciones posibles de los números del 1 al n^2 y verifica si alguna de estas permutaciones forma un cuadrado mágico. El algoritmo utiliza una función auxiliar es_cuadrado_magico para verificar si una matriz es un cuadrado mágico y devuelve la primera que cumple con esta condición. Si no encuentra un cuadrado mágico, devuelve \"None\"."
   ]
  },
  {
   "attachments": {},
   "cell_type": "markdown",
   "metadata": {},
   "source": [
    "Vale aclarar que para un \"n\" existe un único cuadrado mágico, por lo que cuando lo encuentra termina la búsqueda."
   ]
  },
  {
   "cell_type": "code",
   "execution_count": 8,
   "metadata": {},
   "outputs": [],
   "source": [
    "def es_cuadrado_magico(matriz):\n",
    "    \n",
    "    n = len(matriz)\n",
    "    suma_objetivo = sum(matriz[0])  # La suma objetivo es la suma de la primera fila\n",
    "    \n",
    "    # Verificar que la suma de todas las filas y columnas sea igual a la suma objetivo\n",
    "    for i in range(n):\n",
    "        if sum(matriz[i]) != suma_objetivo:\n",
    "            return False\n",
    "        if sum(matriz[j][i] for j in range(n)) != suma_objetivo:\n",
    "            return False\n",
    "    \n",
    "    # Verificar que la suma de las diagonales principales sea igual a la suma objetivo\n",
    "    if sum(matriz[i][i] for i in range(n)) != suma_objetivo:\n",
    "        return False\n",
    "    if sum(matriz[i][n - 1 - i] for i in range(n)) != suma_objetivo:\n",
    "        return False\n",
    "    \n",
    "    return True\n",
    "\n",
    "def generar_cuadrado_magico(n):\n",
    "    \n",
    "    # genero el rango de números\n",
    "    numeros = list(range(1, n**2 + 1))\n",
    "    \n",
    "    # genero las permutaciones con itertools\n",
    "    permutaciones = list(itertools.permutations(numeros))\n",
    "    \n",
    "    for permutacion in permutaciones:\n",
    "\n",
    "        # creo una matriz llena de 0\n",
    "        matriz = [[0] * n for _ in range(n)]\n",
    "\n",
    "        # lleno la matriz con la permutación (ej de permutación : 1 4 3 2 5 9 7 6 8), tomando elementos de a uno de la permutación \n",
    "        # y colocandolos en la matriz)\n",
    "        k = 0\n",
    "        for i in range(n):\n",
    "            for j in range(n):\n",
    "                matriz[i][j] = permutacion[k]\n",
    "                k += 1\n",
    "        \n",
    "        # verifico si dicha matriz es cuadrado magico y si lo es entonces finaliza, ya que hay un solo cuadrado mágico\n",
    "        if es_cuadrado_magico(matriz):\n",
    "            return matriz\n",
    "    \n",
    "    return None\n",
    "\n",
    "def imprimir_cuadrado_magico(matriz):\n",
    "    if matriz:\n",
    "        n = len(matriz)\n",
    "        for i in range(n):\n",
    "            for j in range(n):\n",
    "                print(matriz[i][j], end=\"\\t\")\n",
    "            print()\n",
    "    else:\n",
    "        print(\"No se encontró un cuadrado mágico.\")"
   ]
  },
  {
   "attachments": {},
   "cell_type": "markdown",
   "metadata": {},
   "source": [
    "Ejemplo práctico de uso (no se recomienda usar un \"n\" muy grande ya que no es eficiente por búsqueda exhaustiva, pero es lo que pide el ejercicio)"
   ]
  },
  {
   "cell_type": "code",
   "execution_count": 9,
   "metadata": {},
   "outputs": [
    {
     "name": "stdout",
     "output_type": "stream",
     "text": [
      "2\t7\t6\t\n",
      "9\t5\t1\t\n",
      "4\t3\t8\t\n"
     ]
    }
   ],
   "source": [
    "n = 3  # Tamaño del cuadrado mágico\n",
    "cuadrado_magico = generar_cuadrado_magico(n)\n",
    "imprimir_cuadrado_magico(cuadrado_magico)"
   ]
  },
  {
   "attachments": {},
   "cell_type": "markdown",
   "metadata": {},
   "source": [
    "### Ejercicio 3"
   ]
  },
  {
   "attachments": {},
   "cell_type": "markdown",
   "metadata": {},
   "source": [
    "Se encuentran en un río 3 caníbales y 3 vegetarianos. En la orilla hay un bote que permite que solo dos personas lo atraviesen (\"esto estaba mal escrito, supongo que quiso decirlo así\"). Los 6 quieren cruzar al otro lado. Sin embargo, existe un peligro para los vegetarianos: si en algún momento en alguna de las márgenes hay más caníbales que vegetarianos estos los atacarán. Tener en cuenta que el bote tiene que ser manejado por alguien para regresar a la orilla. De terminar si es posible establecer un orden de cruces en el que puedan lograr su objetivo conservando la integridad física. Explicar como construir el grafo de estados del problema. Determinar cómo explorarlo para conseguir la respuesta al problema. Brinde, si existe, la respuesta al problema."
   ]
  },
  {
   "cell_type": "code",
   "execution_count": 10,
   "metadata": {},
   "outputs": [
    {
     "name": "stdout",
     "output_type": "stream",
     "text": [
      "( 3 , 3 , 0 , 0 , izq )\n",
      "( 1 , 3 , 2 , 0 , der )\n",
      "( 2 , 3 , 1 , 0 , izq )\n",
      "( 0 , 3 , 3 , 0 , der )\n",
      "( 1 , 3 , 2 , 0 , izq )\n",
      "( 1 , 1 , 2 , 2 , der )\n",
      "( 2 , 2 , 1 , 1 , izq )\n",
      "( 2 , 0 , 1 , 3 , der )\n",
      "( 3 , 0 , 0 , 3 , izq )\n",
      "( 1 , 0 , 2 , 3 , der )\n",
      "( 2 , 0 , 1 , 3 , izq )\n",
      "( 0 , 0 , 3 , 3 , der )\n"
     ]
    }
   ],
   "source": [
    "class State:\n",
    "\n",
    "    def __init__(self, Ci = 3, Vi = 3, Cd = 0, Vd = 0, bote = \"izq\"):\n",
    "\n",
    "        self.Ci = Ci\n",
    "        self.Vi = Vi\n",
    "        self.Cd = Cd\n",
    "        self.Vd = Vd\n",
    "        self.bote = bote\n",
    "\n",
    "    def is_solution(self):\n",
    "        return self.Ci == 0 and self.Cd == 3 and self.Vi == 0 and self.Vd == 3 and self.bote == \"der\"\n",
    "\n",
    "    def is_valid(self):\n",
    "              \n",
    "        if self.Cd < 0 or self.Cd > 3:\n",
    "            return False\n",
    "        \n",
    "        if self.Ci < 0 or self.Ci > 3:\n",
    "            return False\n",
    "        \n",
    "        if self.Vd < 0 or self.Vd > 3:\n",
    "            return False\n",
    "        \n",
    "        if self.Vi < 0 or self.Vi > 3:\n",
    "            return False\n",
    "        \n",
    "        if self.Cd > self.Vd and self.Vd > 0:\n",
    "            return False\n",
    "        \n",
    "        if self.Ci > self.Vi and self.Vi > 0:\n",
    "            return False\n",
    "        \n",
    "        return True\n",
    "\n",
    "    def clone(self):\n",
    "\n",
    "        return State(self.Ci, self.Vi, self.Cd, self.Vd, self.bote)\n",
    "    \n",
    "    def transportar(self, Ci, Vi, Cd, Vd):\n",
    "\n",
    "        if self.bote == \"izq\":\n",
    "            if Ci > 0 or Vi > 0:\n",
    "                self.Cd += Ci\n",
    "                self.Vd += Vi\n",
    "                self.Ci -= Ci\n",
    "                self.Vi -= Vi\n",
    "                self.bote = \"der\"\n",
    "                return True\n",
    "\n",
    "        elif self.bote == \"der\":\n",
    "            if Cd > 0 or Vd > 0:\n",
    "                self.Ci += Cd\n",
    "                self.Vi += Vd\n",
    "                self.Cd -= Cd\n",
    "                self.Vd -= Vd\n",
    "                self.bote = \"izq\"\n",
    "                return True\n",
    "\n",
    "        return False\n",
    "\n",
    "    def get_next_states(self):\n",
    "\n",
    "        states = []\n",
    "\n",
    "        state1 = self.clone()\n",
    "        if state1.transportar(2,0,0,0):\n",
    "            states.append(state1)\n",
    "\n",
    "        state2 = self.clone()\n",
    "        if state2.transportar(1,0,0,0):\n",
    "            states.append(state2)\n",
    "\n",
    "        state3 = self.clone()\n",
    "        if state3.transportar(0,2,0,0):\n",
    "            states.append(state3)\n",
    "\n",
    "        state4 = self.clone()\n",
    "        if state4.transportar(0,1,0,0):\n",
    "            states.append(state4)\n",
    "\n",
    "        state5 = self.clone()\n",
    "        if state5.transportar(0,0,2,0):\n",
    "            states.append(state5)\n",
    "\n",
    "        state6 = self.clone()\n",
    "        if state6.transportar(0,0,1,0):\n",
    "            states.append(state6)\n",
    "        \n",
    "        state7 = self.clone()\n",
    "        if state7.transportar(0,0,0,2):\n",
    "            states.append(state7)\n",
    "\n",
    "        state8 = self.clone()\n",
    "        if state8.transportar(0,0,0,1):\n",
    "            states.append(state8)\n",
    "\n",
    "        state9 = self.clone()\n",
    "        if state9.transportar(1,1,0,0):\n",
    "            states.append(state9)\n",
    "\n",
    "        state10 = self.clone()\n",
    "        if state10.transportar(0,0,1,1):\n",
    "            states.append(state10)\n",
    "\n",
    "        return states\n",
    "\n",
    "    def sameDistribution(self, Ci, Vi, Cd, Vd, bote):\n",
    "        return self.Ci == Ci and self.Vi == Vi and self.Cd == Cd and self.Vd == Vd and self.bote == bote\n",
    "\n",
    "    def equal(self, otherState):\n",
    "        return otherState.sameDistribution(self.Ci, self.Vi, self.Cd, self.Vd, self.bote)\n",
    "    \n",
    "    def print(self):\n",
    "        print(\"(\", self.Ci, \",\", self.Vi, \",\", self.Cd, \",\", self.Vd, \",\", self.bote, \")\")\n",
    "\n",
    "def state_is_valid(state, path):\n",
    "\n",
    "    notVisited = True\n",
    "    for oldState in path:\n",
    "        if oldState.equal(state):\n",
    "            notVisited = False\n",
    "\n",
    "    return state.is_valid() and notVisited\n",
    "\n",
    "def print_solution(path):\n",
    "    for state in path:\n",
    "        state.print()\n",
    "\n",
    "def backtrack(state, path):\n",
    "\n",
    "    path = path + [state]\n",
    "\n",
    "    if state.is_solution():\n",
    "        print_solution(path)\n",
    "    else:\n",
    "        for nextState in state.get_next_states():\n",
    "            if state_is_valid(nextState, path):\n",
    "                return backtrack(nextState, path)\n",
    "\n",
    "\n",
    "# Ejemplo de uso\n",
    "\n",
    "state = State()\n",
    "path = []\n",
    "backtrack(state, path)"
   ]
  },
  {
   "attachments": {},
   "cell_type": "markdown",
   "metadata": {},
   "source": [
    "### Ejercicio 4"
   ]
  },
  {
   "attachments": {},
   "cell_type": "markdown",
   "metadata": {},
   "source": [
    "Resuelva el problema de las reinas en el tablero de ajedrez mediante backtracking planteado como permutaciones. Brinde el pseudocódigo y determine la cantidad máxima posible de subproblemas a explorar."
   ]
  },
  {
   "attachments": {},
   "cell_type": "markdown",
   "metadata": {},
   "source": [
    "De esta manera, se plantea mediante \"Permutaciones\" y \"Generar y Probar\", no se como hacerlo por Backtracking CON PERMUTACIONES (sin permutaciones por backtracking no es dificil)"
   ]
  },
  {
   "cell_type": "code",
   "execution_count": 11,
   "metadata": {},
   "outputs": [
    {
     "name": "stdout",
     "output_type": "stream",
     "text": [
      "Se encontraron 92 soluciones para 8-reinas:\n",
      "Solución 1: (0, 4, 7, 5, 2, 6, 1, 3)\n",
      "Solución 2: (0, 5, 7, 2, 6, 3, 1, 4)\n",
      "Solución 3: (0, 6, 3, 5, 7, 1, 4, 2)\n",
      "Solución 4: (0, 6, 4, 7, 1, 3, 5, 2)\n",
      "Solución 5: (1, 3, 5, 7, 2, 0, 6, 4)\n",
      "Solución 6: (1, 4, 6, 0, 2, 7, 5, 3)\n",
      "Solución 7: (1, 4, 6, 3, 0, 7, 5, 2)\n",
      "Solución 8: (1, 5, 0, 6, 3, 7, 2, 4)\n",
      "Solución 9: (1, 5, 7, 2, 0, 3, 6, 4)\n",
      "Solución 10: (1, 6, 2, 5, 7, 4, 0, 3)\n",
      "Solución 11: (1, 6, 4, 7, 0, 3, 5, 2)\n",
      "Solución 12: (1, 7, 5, 0, 2, 4, 6, 3)\n",
      "Solución 13: (2, 0, 6, 4, 7, 1, 3, 5)\n",
      "Solución 14: (2, 4, 1, 7, 0, 6, 3, 5)\n",
      "Solución 15: (2, 4, 1, 7, 5, 3, 6, 0)\n",
      "Solución 16: (2, 4, 6, 0, 3, 1, 7, 5)\n",
      "Solución 17: (2, 4, 7, 3, 0, 6, 1, 5)\n",
      "Solución 18: (2, 5, 1, 4, 7, 0, 6, 3)\n",
      "Solución 19: (2, 5, 1, 6, 0, 3, 7, 4)\n",
      "Solución 20: (2, 5, 1, 6, 4, 0, 7, 3)\n",
      "Solución 21: (2, 5, 3, 0, 7, 4, 6, 1)\n",
      "Solución 22: (2, 5, 3, 1, 7, 4, 6, 0)\n",
      "Solución 23: (2, 5, 7, 0, 3, 6, 4, 1)\n",
      "Solución 24: (2, 5, 7, 0, 4, 6, 1, 3)\n",
      "Solución 25: (2, 5, 7, 1, 3, 0, 6, 4)\n",
      "Solución 26: (2, 6, 1, 7, 4, 0, 3, 5)\n",
      "Solución 27: (2, 6, 1, 7, 5, 3, 0, 4)\n",
      "Solución 28: (2, 7, 3, 6, 0, 5, 1, 4)\n",
      "Solución 29: (3, 0, 4, 7, 1, 6, 2, 5)\n",
      "Solución 30: (3, 0, 4, 7, 5, 2, 6, 1)\n",
      "Solución 31: (3, 1, 4, 7, 5, 0, 2, 6)\n",
      "Solución 32: (3, 1, 6, 2, 5, 7, 0, 4)\n",
      "Solución 33: (3, 1, 6, 2, 5, 7, 4, 0)\n",
      "Solución 34: (3, 1, 6, 4, 0, 7, 5, 2)\n",
      "Solución 35: (3, 1, 7, 4, 6, 0, 2, 5)\n",
      "Solución 36: (3, 1, 7, 5, 0, 2, 4, 6)\n",
      "Solución 37: (3, 5, 0, 4, 1, 7, 2, 6)\n",
      "Solución 38: (3, 5, 7, 1, 6, 0, 2, 4)\n",
      "Solución 39: (3, 5, 7, 2, 0, 6, 4, 1)\n",
      "Solución 40: (3, 6, 0, 7, 4, 1, 5, 2)\n",
      "Solución 41: (3, 6, 2, 7, 1, 4, 0, 5)\n",
      "Solución 42: (3, 6, 4, 1, 5, 0, 2, 7)\n",
      "Solución 43: (3, 6, 4, 2, 0, 5, 7, 1)\n",
      "Solución 44: (3, 7, 0, 2, 5, 1, 6, 4)\n",
      "Solución 45: (3, 7, 0, 4, 6, 1, 5, 2)\n",
      "Solución 46: (3, 7, 4, 2, 0, 6, 1, 5)\n",
      "Solución 47: (4, 0, 3, 5, 7, 1, 6, 2)\n",
      "Solución 48: (4, 0, 7, 3, 1, 6, 2, 5)\n",
      "Solución 49: (4, 0, 7, 5, 2, 6, 1, 3)\n",
      "Solución 50: (4, 1, 3, 5, 7, 2, 0, 6)\n",
      "Solución 51: (4, 1, 3, 6, 2, 7, 5, 0)\n",
      "Solución 52: (4, 1, 5, 0, 6, 3, 7, 2)\n",
      "Solución 53: (4, 1, 7, 0, 3, 6, 2, 5)\n",
      "Solución 54: (4, 2, 0, 5, 7, 1, 3, 6)\n",
      "Solución 55: (4, 2, 0, 6, 1, 7, 5, 3)\n",
      "Solución 56: (4, 2, 7, 3, 6, 0, 5, 1)\n",
      "Solución 57: (4, 6, 0, 2, 7, 5, 3, 1)\n",
      "Solución 58: (4, 6, 0, 3, 1, 7, 5, 2)\n",
      "Solución 59: (4, 6, 1, 3, 7, 0, 2, 5)\n",
      "Solución 60: (4, 6, 1, 5, 2, 0, 3, 7)\n",
      "Solución 61: (4, 6, 1, 5, 2, 0, 7, 3)\n",
      "Solución 62: (4, 6, 3, 0, 2, 7, 5, 1)\n",
      "Solución 63: (4, 7, 3, 0, 2, 5, 1, 6)\n",
      "Solución 64: (4, 7, 3, 0, 6, 1, 5, 2)\n",
      "Solución 65: (5, 0, 4, 1, 7, 2, 6, 3)\n",
      "Solución 66: (5, 1, 6, 0, 2, 4, 7, 3)\n",
      "Solución 67: (5, 1, 6, 0, 3, 7, 4, 2)\n",
      "Solución 68: (5, 2, 0, 6, 4, 7, 1, 3)\n",
      "Solución 69: (5, 2, 0, 7, 3, 1, 6, 4)\n",
      "Solución 70: (5, 2, 0, 7, 4, 1, 3, 6)\n",
      "Solución 71: (5, 2, 4, 6, 0, 3, 1, 7)\n",
      "Solución 72: (5, 2, 4, 7, 0, 3, 1, 6)\n",
      "Solución 73: (5, 2, 6, 1, 3, 7, 0, 4)\n",
      "Solución 74: (5, 2, 6, 1, 7, 4, 0, 3)\n",
      "Solución 75: (5, 2, 6, 3, 0, 7, 1, 4)\n",
      "Solución 76: (5, 3, 0, 4, 7, 1, 6, 2)\n",
      "Solución 77: (5, 3, 1, 7, 4, 6, 0, 2)\n",
      "Solución 78: (5, 3, 6, 0, 2, 4, 1, 7)\n",
      "Solución 79: (5, 3, 6, 0, 7, 1, 4, 2)\n",
      "Solución 80: (5, 7, 1, 3, 0, 6, 4, 2)\n",
      "Solución 81: (6, 0, 2, 7, 5, 3, 1, 4)\n",
      "Solución 82: (6, 1, 3, 0, 7, 4, 2, 5)\n",
      "Solución 83: (6, 1, 5, 2, 0, 3, 7, 4)\n",
      "Solución 84: (6, 2, 0, 5, 7, 4, 1, 3)\n",
      "Solución 85: (6, 2, 7, 1, 4, 0, 5, 3)\n",
      "Solución 86: (6, 3, 1, 4, 7, 0, 2, 5)\n",
      "Solución 87: (6, 3, 1, 7, 5, 0, 2, 4)\n",
      "Solución 88: (6, 4, 2, 0, 5, 7, 1, 3)\n",
      "Solución 89: (7, 1, 3, 0, 6, 4, 2, 5)\n",
      "Solución 90: (7, 1, 4, 2, 0, 6, 3, 5)\n",
      "Solución 91: (7, 2, 0, 5, 1, 4, 6, 3)\n",
      "Solución 92: (7, 3, 0, 2, 5, 1, 6, 4)\n"
     ]
    }
   ],
   "source": [
    "def es_valida(tablero):\n",
    "    n = len(tablero)\n",
    "    for i in range(n):\n",
    "        for j in range(i + 1, n):\n",
    "            if abs(tablero[i] - tablero[j]) == abs(i - j):\n",
    "                return False\n",
    "    return True\n",
    "\n",
    "# esto es generar y probar NO backtracking\n",
    "def resolver_n_reinas(n):\n",
    "\n",
    "    permutaciones = list(itertools.permutations(range(n)))\n",
    "\n",
    "    soluciones = []\n",
    "    for perm in permutaciones:\n",
    "        if es_valida(perm):\n",
    "            soluciones.append(perm)\n",
    "\n",
    "    return soluciones\n",
    "\n",
    "n = 8\n",
    "soluciones = resolver_n_reinas(n)\n",
    "\n",
    "if len(soluciones) > 0:\n",
    "    print(f\"Se encontraron {len(soluciones)} soluciones para {n}-reinas:\")\n",
    "    for i, solucion in enumerate(soluciones):\n",
    "        print(f\"Solución {i + 1}: {solucion}\")\n",
    "else:\n",
    "    print(f\"No se encontraron soluciones para {n}-reinas.\")"
   ]
  },
  {
   "attachments": {},
   "cell_type": "markdown",
   "metadata": {},
   "source": [
    "#### Ejercicio 5"
   ]
  },
  {
   "attachments": {},
   "cell_type": "markdown",
   "metadata": {},
   "source": [
    "En un tablero de ajedrez (una cuadrícula de 8x8) se ubica la pieza llamada \"caballo\" en la esquina superior izquierda. Un caballo tiene una manera peculiar de moverse por el tablero: Dos casillas en dirección horizontal o vertical y después una casilla más en ángulo recto (formando una forma similar a la letra \"L\"). El caballo se traslada de la casilla inicial a la final sin tocar las intermedias, dado que las \"salta\". Se quiere determinar si es posible, mover esta pieza de forma sucesiva a través de todas las casillas del tablero pasando una sola vez por cada una de ellas y terminando en la casilla inicial. Plantear la solución mediante backtracking."
   ]
  },
  {
   "cell_type": "code",
   "execution_count": 12,
   "metadata": {},
   "outputs": [
    {
     "name": "stdout",
     "output_type": "stream",
     "text": [
      "[0, 59, 38, 33, 30, 17, 8, 63]\n",
      "[37, 34, 31, 60, 9, 62, 29, 16]\n",
      "[58, 1, 36, 39, 32, 27, 18, 7]\n",
      "[35, 48, 41, 26, 61, 10, 15, 28]\n",
      "[42, 57, 2, 49, 40, 23, 6, 19]\n",
      "[47, 50, 45, 54, 25, 20, 11, 14]\n",
      "[56, 43, 52, 3, 22, 13, 24, 5]\n",
      "[51, 46, 55, 44, 53, 4, 21, 12]\n"
     ]
    }
   ],
   "source": [
    "def is_valid_move(x, y, sol, n):\n",
    "    # Verifica si la casilla está dentro del tablero y no ha sido visitada\n",
    "    if 0 <= x < n and 0 <= y < n and sol[x][y] == -1:\n",
    "        return True\n",
    "    return False\n",
    "\n",
    "def solve_knight_tour(n):\n",
    "    # Crear el tablero n x n\n",
    "    sol = [[-1 for _ in range(n)] for _ in range(n)]\n",
    "\n",
    "    # Movimientos válidos del caballo en coordenadas x e y\n",
    "    move_x = [2, 1, -1, -2, -2, -1, 1, 2]\n",
    "    move_y = [1, 2, 2, 1, -1, -2, -2, -1]\n",
    "\n",
    "    # Iniciar el movimiento del caballo en la esquina superior izquierda\n",
    "    sol[0][0] = 0\n",
    "\n",
    "    # Llamar a la función de backtracking\n",
    "    if not knight_tour_util(0, 0, 1, sol, move_x, move_y, n):\n",
    "        print(\"No existe solución\")\n",
    "    else:\n",
    "        print_solution(sol)\n",
    "\n",
    "def knight_tour_util(x, y, movei, sol, move_x, move_y, n):\n",
    "    if movei == n * n:\n",
    "        return True\n",
    "\n",
    "    # Intenta los 8 movimientos posibles\n",
    "    for k in range(8):\n",
    "        new_x = x + move_x[k]\n",
    "        new_y = y + move_y[k]\n",
    "        if is_valid_move(new_x, new_y, sol, n):\n",
    "            sol[new_x][new_y] = movei\n",
    "            if knight_tour_util(new_x, new_y, movei + 1, sol, move_x, move_y, n):\n",
    "                return True\n",
    "            sol[new_x][new_y] = -1\n",
    "\n",
    "    return False\n",
    "\n",
    "def print_solution(sol):\n",
    "    for row in sol:\n",
    "        print(row)\n",
    "\n",
    "# Tamaño del tablero de ajedrez\n",
    "n = 8\n",
    "solve_knight_tour(n)"
   ]
  },
  {
   "attachments": {},
   "cell_type": "markdown",
   "metadata": {},
   "source": [
    "#### Ejercicio 6"
   ]
  },
  {
   "attachments": {},
   "cell_type": "markdown",
   "metadata": {},
   "source": [
    "En la teoría de gráfos, se conoce como etiquetado de vértices a asignarle a cada vértice una etiqueta diferente. De igual manera se puede realizar un etiquetado de ejes.  \n",
    "Generalmente, el etiquetado se puede representar mediante un número entero. Existen diferentes etiquetados posibles. Trabajaremos con el \"etiquetado elegante\" (graceful labeling). Dado un grafo G=(V,E) con m ejes se asignará como etiqueta a cada uno de sus vértices un número entre 0 y m. Se computará para cada eje la diferencia absoluta entre las etiqueta de vértices y esa será su etiqueta. Se espera que los ejes queden etiquetados del 1 al m inclusive (y que obviamente cada una se única). Construya mediante generar y probar un algoritmo que dado un grafo determine un etiquetado elegante (si es posible)."
   ]
  },
  {
   "cell_type": "code",
   "execution_count": 13,
   "metadata": {},
   "outputs": [
    {
     "name": "stdout",
     "output_type": "stream",
     "text": [
      "No se encontró un etiquetado elegante para el grafo.\n"
     ]
    }
   ],
   "source": [
    "def es_etiquetado_elegante(grafo):\n",
    "    vertices = list(grafo.keys())\n",
    "    num_ejes = sum(len(grafo[v]) for v in vertices) // 2  # Dividido por 2 para contar cada eje una vez\n",
    "    \n",
    "    # Generar todas las permutaciones posibles de etiquetas para los vértices\n",
    "    etiquetas_posibles = list(itertools.permutations(range(num_ejes)))\n",
    "    \n",
    "    for etiquetas in etiquetas_posibles:\n",
    "        etiquetas_ejes = {}\n",
    "        etiqueta_actual = 1\n",
    "        \n",
    "        # Asignar etiquetas a los ejes\n",
    "        for v1 in vertices:\n",
    "            for v2 in grafo[v1]:\n",
    "                if v1 < v2:\n",
    "                    etiquetas_ejes[(v1, v2)] = abs(etiquetas[v1] - etiquetas[v2])\n",
    "                    etiqueta_actual += 1\n",
    "        \n",
    "        # Verificar si las etiquetas de los ejes son únicas y consecutivas\n",
    "        if sorted(list(etiquetas_ejes.values())) == list(range(1, num_ejes + 1)):\n",
    "            return etiquetas\n",
    "        \n",
    "    return None\n",
    "\n",
    "# Ejemplo de uso:\n",
    "grafo = {\n",
    "    0: [1, 2],\n",
    "    1: [0, 2],\n",
    "    2: [0, 1]\n",
    "}\n",
    "\n",
    "etiquetado = es_etiquetado_elegante(grafo)\n",
    "if etiquetado:\n",
    "    print(\"Etiquetado elegante encontrado:\")\n",
    "    for v, etiqueta in enumerate(etiquetado):\n",
    "        print(f\"Vértice {v} -> Etiqueta {etiqueta}\")\n",
    "else:\n",
    "    print(\"No se encontró un etiquetado elegante para el grafo.\")"
   ]
  },
  {
   "attachments": {},
   "cell_type": "markdown",
   "metadata": {},
   "source": [
    "#### Ejercicio 7"
   ]
  },
  {
   "attachments": {},
   "cell_type": "markdown",
   "metadata": {},
   "source": [
    "Se cuenta con \"n\" trabajos por realizar y la misma cantidad de contratistas para realizarlos. Ellos son capaces de realizar cualquiera de los trabajos aunque una vez que se comprometen a hacer uno, no podrán realizar el resto. Tenemos un presupuesto de cada trabajo por contratista. Queremos asignarlos de forma tal de minimizar el costo de trabajo total. Proponer un algoritmo por Branch And Bound que resuelve el problema de la asignación."
   ]
  },
  {
   "attachments": {},
   "cell_type": "markdown",
   "metadata": {},
   "source": [
    "#### Explicación"
   ]
  },
  {
   "attachments": {},
   "cell_type": "markdown",
   "metadata": {},
   "source": [
    "La primera vez que lo leí no lo entendí, así que lo explico de otra manera. Tengo una cantidad de trabajos \"n\" y \"n\" contratistas/trabajadores posibles. Cada contratista me pasa un _precio diferente_ para cada trabajo. Entonces, tengo que encontrar la mejor solución que me genere un costo mínimo de dinero. Dado que cada contratista puede trabajar y tiene un precio diferente por trabajo, debo buscar todas las opciones posibles."
   ]
  },
  {
   "cell_type": "code",
   "execution_count": 14,
   "metadata": {},
   "outputs": [
    {
     "name": "stdout",
     "output_type": "stream",
     "text": [
      "La mejor elección de contratistas es:  [2, 1, 3, 4]\n",
      "El costo mínimo es de:  13\n"
     ]
    }
   ],
   "source": [
    "# estas variables debo crearlas fuera de las funciones para que todas puedan acceder a ellas\n",
    "best_path = []\n",
    "best_bound = float('inf')\n",
    "\n",
    "# Cantidad de trabajos a resolver\n",
    "n_trabajos = 4\n",
    "\n",
    "# La matriz contiene los precios de los contratistas ordenados por trabajo. Esto es un ejemplo para el ejercicio\n",
    "contratistas_precios = np.array([[9, 2, 7, 8],\n",
    "                                 [6, 4, 3, 7],\n",
    "                                 [5, 8, 1, 8],\n",
    "                                 [7, 6, 9, 4]])\n",
    "\n",
    "def is_solution(path):\n",
    "    global n_trabajos\n",
    "    return len(path) == n_trabajos\n",
    "\n",
    "def is_better_solution(state, path):\n",
    "    return not exceeds_bound(state, path)\n",
    "\n",
    "def generate_next_states(state):\n",
    "    global n_trabajos\n",
    "    return [i for i in range(1, n_trabajos + 1) if i != state]\n",
    "\n",
    "def is_valid(state, path):\n",
    "    return not state in path\n",
    "\n",
    "def calculate_accumulated_cost(state, path):\n",
    "    global contratistas_precios\n",
    "    \n",
    "    cost = 0\n",
    "    for indice, contratista in enumerate(path):\n",
    "        cost += contratistas_precios[indice][contratista-1]\n",
    "\n",
    "    return cost if len(path) == 4 else (contratistas_precios[len(path)-1][state-1] + cost)\n",
    "\n",
    "def exceeds_bound(state, path):\n",
    "    global best_bound\n",
    "    state_bound = calculate_accumulated_cost(state, path)\n",
    "    return state_bound > best_bound\n",
    "\n",
    "# state almacena el número de contratista\n",
    "def branch_and_bound(state, path):\n",
    "    global best_bound, best_path, n_trabajos, contratistas_precios\n",
    "    \n",
    "    if (state != 0):\n",
    "        path = path + [state]\n",
    "\n",
    "    if is_solution(path) and is_better_solution(state, path):\n",
    "        best_path = path\n",
    "        best_bound = calculate_accumulated_cost(state, path)\n",
    "\n",
    "    else:\n",
    "        for nextState in generate_next_states(state):\n",
    "            if is_valid(nextState, path) and not exceeds_bound(nextState, path):\n",
    "                branch_and_bound(nextState, path)\n",
    "\n",
    "def solve_problem():\n",
    "    \n",
    "    initial_state = 0\n",
    "    branch_and_bound(initial_state, [])\n",
    "    print(\"La mejor elección de contratistas es: \", best_path)\n",
    "    print(\"El costo mínimo es de: \", best_bound)\n",
    "\n",
    "# mejor elección => costo mínimo\n",
    "# [2, 1, 3, 4] => 13\n",
    "solve_problem()"
   ]
  },
  {
   "attachments": {},
   "cell_type": "markdown",
   "metadata": {},
   "source": [
    "#### Ejercicio 8"
   ]
  },
  {
   "attachments": {},
   "cell_type": "markdown",
   "metadata": {},
   "source": [
    "Contamos con un conjunto de \"n\" equipamientos que se deben repartir entre un conjunto de \"m\" equipos de desarrollo. Cada equipo solicita un subconjunto de ellas. Puede ocurrir que un mismo equipamiento lo soliciten varios equipos o incluso que un equipamiento no lo solicite nadie. Queremos determinar si es posible seleccionar un subconjunto de equipos de desarrollo entregándoles a todos ellos todo lo que soliciten y al mismo tiempo que ninguno de los equipamientos quede sin repartir. Resolver el problema mediante backtracking."
   ]
  },
  {
   "attachments": {},
   "cell_type": "markdown",
   "metadata": {},
   "source": [
    "##### Explicación"
   ]
  },
  {
   "attachments": {},
   "cell_type": "markdown",
   "metadata": {},
   "source": [
    "Nuevamente, es medio dificil de entender, porque aparte ni siquiera te da un ejemplo real. Yo lo entendí así, tenes una matriz mxn, por ejemplo, con pedidos de cada equipo. En la fila 1, tenes el pedido del equipo de desarrollo 1, que pidió algunos equipamientos y otros no.  \n",
    "En la segunda lo mismo y así hasta completar todos los equipos de desarrollo.  \n",
    "Entonces, lo que se pide es tratar de encontrar un subconjunto de equipos de desarrollo tal que se pueda repartir todo el equipamiento entre los equipo de desarrollo del subconjunto sin que choquen con sus pedidos."
   ]
  },
  {
   "cell_type": "code",
   "execution_count": 15,
   "metadata": {},
   "outputs": [
    {
     "name": "stdout",
     "output_type": "stream",
     "text": [
      "Es posible repartir los equipamientos de acuerdo a las solicitudes.\n"
     ]
    }
   ],
   "source": [
    "def puede_repartir_equipos(n, m, solicitudes):\n",
    "    def backtrack(equipo_actual):\n",
    "        if equipo_actual == m:\n",
    "            return True\n",
    "        \n",
    "        for equipo in range(m):\n",
    "            if not asignado[equipo] and all(solicitudes[equipo][equipo_equipo] <= inventario[equipo_equipo] for equipo_equipo in range(n)):\n",
    "                # Intenta asignar equipo a este equipo de desarrollo\n",
    "                for equipo_equipo in range(n):\n",
    "                    inventario[equipo_equipo] -= solicitudes[equipo][equipo_equipo]\n",
    "                asignado[equipo] = True\n",
    "                \n",
    "                if backtrack(equipo_actual + 1):\n",
    "                    return True\n",
    "                \n",
    "                # Deshacer la asignación si no lleva a una solución válida\n",
    "                for equipo_equipo in range(n):\n",
    "                    inventario[equipo_equipo] += solicitudes[equipo][equipo_equipo]\n",
    "                asignado[equipo] = False\n",
    "        \n",
    "        return False\n",
    "    \n",
    "    inventario = [n] * n  # Inventario inicial de equipamientos\n",
    "    asignado = [False] * m  # Equipos de desarrollo asignados\n",
    "    \n",
    "    return backtrack(0)\n",
    "\n",
    "# Ejemplo de uso:\n",
    "n = 5  # Cantidad de equipamientos\n",
    "m = 3  # Cantidad de equipos de desarrollo\n",
    "solicitudes = [\n",
    "    [2, 1, 0, 1, 2],  # Solicitudes del equipo 1\n",
    "    [1, 0, 2, 1, 1],  # Solicitudes del equipo 2\n",
    "    [0, 1, 1, 0, 2],  # Solicitudes del equipo 3\n",
    "]\n",
    "\n",
    "if puede_repartir_equipos(n, m, solicitudes):\n",
    "    print(\"Es posible repartir los equipamientos de acuerdo a las solicitudes.\")\n",
    "else:\n",
    "    print(\"No es posible repartir los equipamientos de acuerdo a las solicitudes.\")"
   ]
  },
  {
   "attachments": {},
   "cell_type": "markdown",
   "metadata": {},
   "source": [
    "#### Ejercicio 9"
   ]
  },
  {
   "attachments": {},
   "cell_type": "markdown",
   "metadata": {},
   "source": [
    "Un ciclo euleriano en un grafo es un camino que pasa por cada arista una y solo una vez, comenzado por un vértice y finalizando en el mismo. Sea un grafo G=(V,E) se busca generar si es posible un ciclo euleriano. Resolverlo mediante generar y probar."
   ]
  },
  {
   "cell_type": "code",
   "execution_count": 16,
   "metadata": {},
   "outputs": [
    {
     "name": "stdout",
     "output_type": "stream",
     "text": [
      "El grafo no tiene ciclo euleriano.\n"
     ]
    }
   ],
   "source": [
    "class Grafo:\n",
    "    def __init__(self, vertices):\n",
    "        self.V = vertices\n",
    "        self.grafo = defaultdict(list)\n",
    "\n",
    "    def agregar_arista(self, u, v):\n",
    "        self.grafo[u].append(v)\n",
    "        self.grafo[v].append(u)\n",
    "\n",
    "    def DFS(self, u, visitado):\n",
    "        for v in self.grafo[u]:\n",
    "            if visitado[v] == False:\n",
    "                return False\n",
    "        return True\n",
    "\n",
    "    def tiene_ciclo_euleriano(self):\n",
    "        if self.V < 2:\n",
    "            return True\n",
    "\n",
    "        grados = [len(self.grafo[v]) for v in range(self.V)]\n",
    "        impar_grados = sum(1 for grado in grados if grado % 2 != 0)\n",
    "\n",
    "        if impar_grados != 0 and impar_grados != 2:\n",
    "            return False\n",
    "\n",
    "        visitado = [False] * self.V\n",
    "        inicio = 0\n",
    "\n",
    "        for i in range(self.V):\n",
    "            if len(self.grafo[i]) > 0:\n",
    "                inicio = i\n",
    "                break\n",
    "\n",
    "        stack = [inicio]\n",
    "        ciclo_euleriano = []\n",
    "\n",
    "        while stack:\n",
    "            u = stack[-1]\n",
    "\n",
    "            if self.DFS(u, visitado):\n",
    "                ciclo_euleriano.append(u)\n",
    "                stack.pop()\n",
    "            else:\n",
    "                v = self.grafo[u][0]\n",
    "                self.grafo[u].remove(v)\n",
    "                self.grafo[v].remove(u)\n",
    "                stack.append(v)\n",
    "\n",
    "        return len(ciclo_euleriano) == self.V\n",
    "\n",
    "    def encontrar_ciclo_euleriano(self):\n",
    "        if not self.tiene_ciclo_euleriano():\n",
    "            return \"No existe un ciclo euleriano en el grafo.\"\n",
    "        \n",
    "        inicio = 0\n",
    "\n",
    "        for i in range(self.V):\n",
    "            if len(self.grafo[i]) > 0:\n",
    "                inicio = i\n",
    "                break\n",
    "\n",
    "        stack = [inicio]\n",
    "        ciclo_euleriano = []\n",
    "\n",
    "        while stack:\n",
    "            u = stack[-1]\n",
    "\n",
    "            if self.DFS(u, [False] * self.V):\n",
    "                ciclo_euleriano.append(u)\n",
    "                stack.pop()\n",
    "            else:\n",
    "                v = self.grafo[u][0]\n",
    "                self.grafo[u].remove(v)\n",
    "                self.grafo[v].remove(u)\n",
    "                stack.append(v)\n",
    "\n",
    "        return ciclo_euleriano\n",
    "\n",
    "# Ejemplo de uso:\n",
    "g = Grafo(5)\n",
    "g.agregar_arista(0, 1)\n",
    "g.agregar_arista(0, 2)\n",
    "g.agregar_arista(1, 2)\n",
    "g.agregar_arista(2, 3)\n",
    "g.agregar_arista(3, 4)\n",
    "g.agregar_arista(4, 2)\n",
    "\n",
    "if g.tiene_ciclo_euleriano():\n",
    "    ciclo_euleriano = g.encontrar_ciclo_euleriano()\n",
    "    print(\"El ciclo euleriano en el grafo es:\", \" -> \".join(map(str, ciclo_euleriano)))\n",
    "else:\n",
    "    print(\"El grafo no tiene ciclo euleriano.\")"
   ]
  },
  {
   "attachments": {},
   "cell_type": "markdown",
   "metadata": {},
   "source": [
    "#### Ejercicio 10"
   ]
  },
  {
   "attachments": {},
   "cell_type": "markdown",
   "metadata": {},
   "source": [
    "Contamos con un conjunto de \"n\" actividades entre las que se puede optar por realizar. Cada actividad x tiene una fecha de inicio Ix, una fecha de finalización fx y un valor Vx que obtenemos por realizarla. Queremos seleccionar el subconjunto de actividades compatibles entre sí que maximice la ganancia a obtener (suma de los valores del subconjunto). Proponer un algoritmo por Branch and Bound que resuelva el problema."
   ]
  },
  {
   "cell_type": "code",
   "execution_count": 26,
   "metadata": {},
   "outputs": [
    {
     "name": "stdout",
     "output_type": "stream",
     "text": [
      "La mejor elección de actividades es: \n",
      "0 4 6\n",
      "5 8 3\n",
      "9 12 12\n",
      "12 14 1\n",
      "14 16 3\n",
      "16 20 3\n",
      "20 24 5\n",
      "La ganancia máxima es de:  33\n"
     ]
    }
   ],
   "source": [
    "class Actividad:\n",
    "    def __init__(self, inicio, fin, valor):\n",
    "        self.inicio = inicio\n",
    "        self.fin = fin\n",
    "        self.valor = valor\n",
    "        \n",
    "    def horariosCompatibles(self, inicioOtraActividad, finOtraActividad):\n",
    "        return inicioOtraActividad >= self.fin or finOtraActividad <= self.inicio\n",
    "\n",
    "    def es_compatible(self, otraActividad):\n",
    "        return otraActividad.horariosCompatibles(self.inicio, self.fin)\n",
    "\n",
    "best_path = []\n",
    "best_bound = -1\n",
    "\n",
    "activities = [\n",
    "    Actividad(0, 4, 6),\n",
    "    Actividad(5, 8, 3),\n",
    "    Actividad(9, 12, 12),\n",
    "    Actividad(12, 14, 1),\n",
    "    Actividad(14, 16, 3),\n",
    "    Actividad(16, 20, 3),\n",
    "    Actividad(20, 24, 5),\n",
    "    Actividad(5, 8, 3),\n",
    "    Actividad(8, 12, 17),\n",
    "    Actividad(5, 19, 20),\n",
    "    Actividad(3, 4, 6),\n",
    "]\n",
    "\n",
    "\n",
    "# No deben quedar actividades que puedan agregarse a la solución,\n",
    "# es decir, si hay aunque sea una sola actividad que puede sumarse al camino ya no es solución\n",
    "def is_solution(path):\n",
    "    global activities\n",
    "    activities_copy = activities.copy()\n",
    "\n",
    "    for sol_activity in path:\n",
    "        for activity in reversed(activities_copy):\n",
    "            if not sol_activity.es_compatible(activity):\n",
    "                activities_copy.remove(activity)\n",
    "\n",
    "    return len(activities_copy) == 0\n",
    "\n",
    "def calculate_accumulated_value(activity, path):\n",
    "\n",
    "    value = 0\n",
    "    for sol_activity in path:\n",
    "        value += sol_activity.valor\n",
    "\n",
    "    return value if activity in path else (value + activity.valor)\n",
    "\n",
    "def is_better_solution(activity, path):\n",
    "    global best_bound\n",
    "    return calculate_accumulated_value(activity, path) > best_bound    \n",
    "\n",
    "\n",
    "def generate_next_activities(path):\n",
    "    global activities\n",
    "    activities_copy = activities.copy()\n",
    "    for activity in path:\n",
    "        activities_copy.remove(activity)\n",
    "\n",
    "    return activities_copy\n",
    "\n",
    "def is_valid(activity, path):\n",
    "\n",
    "    for act in path:\n",
    "        if not act.es_compatible(activity):\n",
    "            return False\n",
    "\n",
    "    return True\n",
    "\n",
    "def exceeds_bound(nextState, path):\n",
    "    global best_bound\n",
    "\n",
    "    newBound = calculate_accumulated_value(nextState, path)\n",
    "\n",
    "    return newBound > best_bound\n",
    "\n",
    "def branch_and_bound(activity, path):\n",
    "    global best_path, best_bound\n",
    "\n",
    "    if (activity != 0):\n",
    "        path = path + [activity]\n",
    "\n",
    "    if is_solution(path):\n",
    "        # if exceeds_bound(activity, path):\n",
    "        best_path = path\n",
    "        best_bound = calculate_accumulated_value(activity, path)\n",
    "    else:\n",
    "        for nextActivity in generate_next_activities(path):\n",
    "            # en este caso busco la mayor ganancia, por lo que necesito que exceda el bound\n",
    "            if is_valid(nextActivity, path) and exceeds_bound(nextActivity, path):\n",
    "                branch_and_bound(nextActivity, path)\n",
    "    \n",
    "branch_and_bound(0, [])\n",
    "print(\"La mejor elección de actividades es: \")\n",
    "for act in best_path:\n",
    "    print(act.inicio, act.fin, act.valor)\n",
    "print(\"La ganancia máxima es de: \", best_bound)"
   ]
  },
  {
   "attachments": {},
   "cell_type": "markdown",
   "metadata": {},
   "source": [
    "#### Ejercicio 11"
   ]
  },
  {
   "attachments": {},
   "cell_type": "markdown",
   "metadata": {},
   "source": [
    "Se cuenta con \"n\" servidores especializados en renderización de videos para películas animadas en 3d. Los servidores son exactamente iguales. Además, contamos con \"m\" escenas de películas que se desean procesar. Cada escena tiene una duración determinada. Queremos determinar la asignación de las escenas a los servidores de modo tal de minimizar el el tiempo a esperar hasta que la última de las escenas termine de procesarse. Determinar dos metodologías con la que pueda resolver el problema y presente como realizar el proceso."
   ]
  },
  {
   "attachments": {},
   "cell_type": "markdown",
   "metadata": {},
   "source": [
    "##### Explicación"
   ]
  },
  {
   "attachments": {},
   "cell_type": "markdown",
   "metadata": {},
   "source": [
    "El enunciado de este ejercicio está re incompleto, no se entiende nada.\n",
    "\n",
    "[ChatGPT]\n",
    "\n",
    "Aquí te presento dos metodologías que podrías utilizar para resolver este problema:\n",
    "\n",
    "Algoritmo de Primero el Más Corto (Shortest Job First, SJF): Este algoritmo asigna la tarea más corta disponible a un servidor tan pronto como se libera. Para implementarlo, necesitarás una lista o cola de prioridad para almacenar las escenas en orden de duración. Cada vez que un servidor se libera, asigna la escena más corta restante.\n",
    "\n",
    "División Equitativa: Este algoritmo intenta dividir las tareas de manera equitativa entre todos los servidores. Primero, ordena todas las escenas por duración. Luego, asigna la escena más larga disponible al servidor que actualmente tiene la carga de trabajo más baja.\n",
    "\n",
    "Para ambos métodos, necesitarás mantener un registro del tiempo total de procesamiento para cada servidor, que se actualiza cada vez que se asigna una nueva escena. El tiempo total de procesamiento será el máximo de estos tiempos una vez que todas las escenas hayan sido asignadas.\n",
    "\n",
    "Es importante tener en cuenta que estos métodos no garantizan la solución óptima en todos los casos. La solución óptima a este problema es un problema NP-completo conocido como el problema de programación de tareas o el problema del taller de trabajo. Sin embargo, estos métodos proporcionan una buena heurística y funcionan bien en la práctica para una amplia gama de casos."
   ]
  },
  {
   "attachments": {},
   "cell_type": "markdown",
   "metadata": {},
   "source": [
    "##### Código"
   ]
  },
  {
   "cell_type": "code",
   "execution_count": 18,
   "metadata": {},
   "outputs": [
    {
     "name": "stdout",
     "output_type": "stream",
     "text": [
      "No se encontró una solución óptima.\n",
      "Tiempo total de finalización: 14.0 unidades de tiempo\n"
     ]
    }
   ],
   "source": [
    "# Datos de entrada\n",
    "n = 3  # Número de servidores\n",
    "m = 4  # Número de escenas\n",
    "duracion_escena = [3, 5, 2, 4]  # Duración de cada escena\n",
    "\n",
    "# Crea un problema de programación lineal\n",
    "prob = pulp.LpProblem(\"Asignacion_Escenas_a_Servidores\", pulp.LpMinimize)\n",
    "\n",
    "# Crea variables binarias para la asignación de escenas a servidores\n",
    "asignacion = [[pulp.LpVariable(f\"x_{i}_{j}\", 0, 1, pulp.LpBinary) for j in range(n)] for i in range(m)]\n",
    "\n",
    "# Objetivo: Minimizar el tiempo total de finalización de las escenas\n",
    "prob += pulp.lpSum(asignacion[i][j] * duracion_escena[i] for i in range(m) for j in range(n))\n",
    "\n",
    "# Restricción: Cada escena debe asignarse a exactamente un servidor\n",
    "for i in range(m):\n",
    "    prob += pulp.lpSum(asignacion[i][j] for j in range(n)) == 1\n",
    "\n",
    "# Restricción: Cada servidor puede procesar una escena a la vez\n",
    "for j in range(n):\n",
    "    prob += pulp.lpSum(asignacion[i][j] for i in range(m)) <= 1\n",
    "\n",
    "# Resuelve el problema\n",
    "prob.solve()\n",
    "\n",
    "# Muestra los resultados\n",
    "if pulp.LpStatus[prob.status] == \"Optimal\":\n",
    "    print(\"Asignación óptima de escenas a servidores:\")\n",
    "    for i in range(m):\n",
    "        for j in range(n):\n",
    "            if asignacion[i][j].value() == 1:\n",
    "                print(f\"Escena {i+1} asignada al Servidor {j+1}\")\n",
    "else:\n",
    "    print(\"No se encontró una solución óptima.\")\n",
    "\n",
    "# Muestra el tiempo total de finalización\n",
    "tiempo_total_finalizacion = pulp.value(prob.objective)\n",
    "print(f\"Tiempo total de finalización: {tiempo_total_finalizacion} unidades de tiempo\")"
   ]
  },
  {
   "attachments": {},
   "cell_type": "markdown",
   "metadata": {},
   "source": [
    "#### Ejercicio 12"
   ]
  },
  {
   "attachments": {},
   "cell_type": "markdown",
   "metadata": {},
   "source": [
    "Un granjero debe trasladar un lobo, una cabra y una zanahoria a la otra margen de un río. Cuenta con un bote donde solo entra él y un elemento más. El problema es que no puede quedar solo el lobo y la cabra. Dado que la primera se comería a la segunda. De igual manera, tampoco puede dejar solo a la cabra y la zanahoria. La primera no dudaría en comerse a la segunda. ¿Cómo puede hacer para cruzar? Explicar como construir el grafo de estados del problema. Determinar cómo explorarlo para conseguir la respuesta al problema. Brinde, si existe, la respuesta al problema."
   ]
  },
  {
   "attachments": {},
   "cell_type": "markdown",
   "metadata": {},
   "source": [
    "##### Código"
   ]
  },
  {
   "cell_type": "code",
   "execution_count": 19,
   "metadata": {},
   "outputs": [
    {
     "name": "stdout",
     "output_type": "stream",
     "text": [
      "Orilla Incorrecta:  ['cabra', 'lobo', 'zanahoria']  Orilla Correcta:  []  Bote:  incorrecta\n",
      "Orilla Incorrecta:  ['lobo', 'zanahoria']  Orilla Correcta:  ['cabra']  Bote:  correcta\n",
      "Orilla Incorrecta:  ['lobo', 'zanahoria']  Orilla Correcta:  ['cabra']  Bote:  incorrecta\n",
      "Orilla Incorrecta:  ['zanahoria']  Orilla Correcta:  ['cabra', 'lobo']  Bote:  correcta\n",
      "Orilla Incorrecta:  ['cabra', 'zanahoria']  Orilla Correcta:  ['lobo']  Bote:  incorrecta\n",
      "Orilla Incorrecta:  ['cabra']  Orilla Correcta:  ['lobo', 'zanahoria']  Bote:  correcta\n",
      "Orilla Incorrecta:  ['cabra']  Orilla Correcta:  ['lobo', 'zanahoria']  Bote:  incorrecta\n",
      "Orilla Incorrecta:  []  Orilla Correcta:  ['cabra', 'lobo', 'zanahoria']  Bote:  correcta\n"
     ]
    }
   ],
   "source": [
    "class State:\n",
    "\n",
    "    def __init__(self, orilla_incorrecta, orilla_correcta, bote):\n",
    "\n",
    "        self.orilla_incorrecta = orilla_incorrecta\n",
    "        self.orilla_correcta = orilla_correcta\n",
    "        self.bote = bote\n",
    "\n",
    "    def is_valid(self):\n",
    "\n",
    "        if \"lobo\" in self.orilla_incorrecta and \"cabra\" in self.orilla_incorrecta and self.bote == \"correcta\":\n",
    "            return False\n",
    "        if \"cabra\" in self.orilla_incorrecta and \"zanahoria\" in self.orilla_incorrecta and self.bote == \"correcta\":\n",
    "            return False\n",
    "        if \"lobo\" in self.orilla_correcta and \"cabra\" in self.orilla_correcta and self.bote == \"incorrecta\":\n",
    "            return False\n",
    "        if \"cabra\" in self.orilla_correcta and \"zanahoria\" in self.orilla_correcta and self.bote == \"incorrecta\":\n",
    "            return False\n",
    "        \n",
    "        return True\n",
    "        \n",
    "    def is_solution(self):\n",
    "\n",
    "        return \"lobo\" in self.orilla_correcta and \"cabra\" in self.orilla_correcta and \"zanahoria\" in self.orilla_correcta and self.bote == \"correcta\"\n",
    "\n",
    "    def move_boat(self):\n",
    "\n",
    "        if self.bote == \"incorrecta\":\n",
    "            self.bote = \"correcta\"\n",
    "        elif self.bote == \"correcta\":\n",
    "            self.bote = \"incorrecta\"\n",
    "\n",
    "    def move_element(self, element):\n",
    "\n",
    "        if element in self.orilla_correcta and self.bote == \"correcta\":\n",
    "            self.orilla_correcta.remove(element)\n",
    "            self.orilla_incorrecta.append(element)\n",
    "            self.bote = \"incorrecta\"\n",
    "            return True\n",
    "\n",
    "        elif element in self.orilla_incorrecta and self.bote == \"incorrecta\":\n",
    "            self.orilla_incorrecta.remove(element)\n",
    "            self.orilla_correcta.append(element)\n",
    "            self.bote = \"correcta\"\n",
    "            return True\n",
    "\n",
    "        else:\n",
    "            return False\n",
    "\n",
    "    def clone(self):\n",
    "\n",
    "        return State(self.orilla_incorrecta[:], self.orilla_correcta[:], self.bote[:])\n",
    "\n",
    "    def generate_new_states(self):\n",
    "\n",
    "        states = []\n",
    "\n",
    "        state0 = self.clone()\n",
    "        state0.move_boat()\n",
    "        states.append(state0)\n",
    "\n",
    "        state1 = self.clone()\n",
    "        if state1.move_element(\"lobo\"):\n",
    "            states.append(state1)\n",
    "\n",
    "        state2 = self.clone()\n",
    "        if state2.move_element(\"cabra\"):\n",
    "            states.append(state2)\n",
    "\n",
    "        state3 = self.clone()\n",
    "        if state3.move_element(\"zanahoria\"):\n",
    "            states.append(state3)\n",
    "\n",
    "        return states\n",
    "\n",
    "    def same_distribution(self, orilla_correcta, orilla_incorrecta, bote):\n",
    "\n",
    "        self.orilla_correcta.sort()\n",
    "        self.orilla_incorrecta.sort()\n",
    "        orilla_correcta.sort()\n",
    "        orilla_incorrecta.sort()\n",
    "\n",
    "        return self.orilla_correcta == orilla_correcta and self.orilla_incorrecta == orilla_incorrecta and self.bote == bote\n",
    "\n",
    "    def equal(self, otherState):\n",
    "\n",
    "        return otherState.same_distribution(self.orilla_correcta, self.orilla_incorrecta, self.bote)\n",
    "    \n",
    "    def print(self):\n",
    "\n",
    "        print(\"Orilla Incorrecta: \", self.orilla_incorrecta, \" Orilla Correcta: \", self.orilla_correcta, \" Bote: \", self.bote)\n",
    "\n",
    "def generate_candidates(state, path):\n",
    "    \n",
    "    possibleStates = state.generate_new_states()\n",
    "    candidates = []\n",
    "    \n",
    "    for newState in possibleStates:\n",
    "        possibleCandidate = True\n",
    "        for oldState in path:\n",
    "            if newState.equal(oldState):\n",
    "                possibleCandidate = False\n",
    "            \n",
    "        if possibleCandidate:\n",
    "            candidates.append(newState)\n",
    "\n",
    "    return candidates\n",
    "\n",
    "def process_solution(path):\n",
    "    \n",
    "    for element in path:\n",
    "        element.print()\n",
    "\n",
    "def backtrack(state, path):\n",
    "\n",
    "    path = path + [state]\n",
    "\n",
    "    if state.is_solution():\n",
    "        process_solution(path)\n",
    "    else:\n",
    "\n",
    "        for statePossible in generate_candidates(state, path):\n",
    "            if statePossible.is_valid():\n",
    "                return backtrack(statePossible, path) # el return sirve para cortar con la primera solución válida, si no continuará buscando todas\n",
    "\n",
    "state = State([\"lobo\", \"cabra\", \"zanahoria\"], [], \"incorrecta\")\n",
    "backtrack(state, [])"
   ]
  }
 ],
 "metadata": {
  "kernelspec": {
   "display_name": "Python 3",
   "language": "python",
   "name": "python3"
  },
  "language_info": {
   "codemirror_mode": {
    "name": "ipython",
    "version": 3
   },
   "file_extension": ".py",
   "mimetype": "text/x-python",
   "name": "python",
   "nbconvert_exporter": "python",
   "pygments_lexer": "ipython3",
   "version": "3.11.5"
  },
  "orig_nbformat": 4
 },
 "nbformat": 4,
 "nbformat_minor": 2
}
